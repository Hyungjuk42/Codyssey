{
 "cells": [
  {
   "cell_type": "code",
   "execution_count": 2,
   "metadata": {},
   "outputs": [],
   "source": [
    "# module\n",
    "import pandas as pd\n",
    "import matplotlib.pyplot as plt\n",
    "import matplotlib.dates as mdates\n",
    "import seaborn as sns\n",
    "import numpy as np"
   ]
  },
  {
   "cell_type": "code",
   "execution_count": 3,
   "metadata": {},
   "outputs": [],
   "source": [
    "# Util Functions\n",
    "from enum import Enum\n",
    "\n",
    "# 파일을 읽어와 pandas의 DataFrame으로 반환해줌\n",
    "def get_df_from(path: str, sep: str = ','):\n",
    "    extension = path.split('.')[-1]\n",
    "    try:\n",
    "        if extension == \"csv\" or extension == \"txt\":\n",
    "            df = pd.read_csv(path, sep=sep, on_bad_lines='skip')\n",
    "            if df.empty:\n",
    "                print(\"W: DataFrame is empty.\")\n",
    "                return None\n",
    "            return df\n",
    "        else:\n",
    "            print(\"E: File extension is not supported.\")\n",
    "            return None\n",
    "    except FileNotFoundError:\n",
    "        print(f\"E: File not found. Check the path: {path}\")\n",
    "        return None\n",
    "    except pd.errors.ParserError as e:\n",
    "        print(f\"E: Error parsing CSV file: {e}\")\n",
    "        return None\n",
    "    except Exception as e:\n",
    "        print(f\"E: An unexpected error occured: {e}\")\n",
    "        return None\n",
    "\n",
    "# 리스트의 평균을 반환.(기본값 0)\n",
    "def calculate_mean(lst):\n",
    "    if lst: # 빈 리스트가 아닌 경우에만 평균 계산\n",
    "        return np.mean(lst)\n",
    "    return 0 # 빈 리스트인 경우 NaN 반환\n",
    "\n",
    "# 리스트의 합을 반환.(기본값 0)\n",
    "def calculate_sum(lst):\n",
    "    if lst:\n",
    "        return np.sum(lst)\n",
    "    return 0\n",
    "\n",
    "\n",
    "class ChartShape(Enum):\n",
    "    BAR = 1\n",
    "    HISTOGRAM = 2\n",
    "    LINE = 3\n",
    "    HEATMAP = 4\n",
    "\n",
    "# Chart 뽑는 함수\n",
    "def get_chart_from(df: pd.DataFrame, x_col: str, y_col: str, shape: ChartShape = ChartShape.BAR, real_time: bool = False):\n",
    "    plt.figure(figsize=(10, 6))\n",
    "    if shape == ChartShape.BAR:\n",
    "        plt.bar(df[x_col], df[y_col])\n",
    "    elif shape == ChartShape.HISTOGRAM:\n",
    "        plt.hist(df[x_col], bins=10)\n",
    "    elif shape == ChartShape.LINE:\n",
    "        plt.plot(df[x_col], df[y_col])\n",
    "    else:\n",
    "        plt.plot(df[x_col], df[y_col])\n",
    "\n",
    "    if real_time:\n",
    "        plt.gca().xaxis.set_major_locator(mdates.MonthLocator()) # 월 단위로 큰 눈금 표시\n",
    "        plt.gca().xaxis.set_major_formatter(mdates.DateFormatter('%Y-%m-%d')) # 날짜 형식 지정\n",
    "    plt.xlabel(x_col)\n",
    "    plt.ylabel(y_col)\n",
    "    plt.grid(True)\n",
    "    plt.tight_layout()\n",
    "    plt.xticks(df[x_col], rotation=45, ha='right')\n",
    "    plt.show()\n",
    "\n",
    "def get_chart_from_series(sr: pd.Series, x_col: str, y_col: str, shape: ChartShape = ChartShape.BAR):\n",
    "    if shape == ChartShape.BAR:\n",
    "        sr.plot.bar()\n",
    "    if shape == ChartShape.LINE:\n",
    "        sr.plot.line()\n",
    "    if shape == ChartShape.HISTOGRAM:\n",
    "        sr.plot.hist()\n",
    "    plt.xlabel(x_col)\n",
    "    plt.ylabel(y_col)\n",
    "    plt.show()\n",
    "\n",
    "def get_integer(question: str):\n",
    "    try:\n",
    "        id = int(input(question))\n",
    "        return id\n",
    "    except:\n",
    "        print(f\"E: invalid integer\")\n",
    "        return 0"
   ]
  },
  {
   "cell_type": "code",
   "execution_count": 4,
   "metadata": {},
   "outputs": [],
   "source": [
    "# Function\n",
    "\n",
    "folder_path = '../public/kmrd-small/'\n",
    "\n",
    "file_paths = {\n",
    "    'castings': folder_path + 'castings.csv',\n",
    "    'countries': folder_path + 'countries.csv',\n",
    "    'genres': folder_path + 'genres.csv',\n",
    "    'movies': folder_path + 'movies.txt',\n",
    "    'peoples': folder_path + 'peoples.txt',\n",
    "    'rates': folder_path + 'rates.csv',\n",
    "}\n",
    "\n",
    "def get_df_strict_from(path: str, sep: str = ','):\n",
    "    df = get_df_from(path, sep)\n",
    "    for _ in range(3):\n",
    "        if df is not None:\n",
    "            return df\n",
    "        new_path = input('오류가 발생했습니다. 정확한 경로를 확인해주세요: ')\n",
    "        new_sep = input('구분자를 입력해주세요: ')\n",
    "        df = get_df_from(new_path, new_sep)\n",
    "    exit()"
   ]
  },
  {
   "cell_type": "code",
   "execution_count": 5,
   "metadata": {},
   "outputs": [],
   "source": [
    "from sklearn.model_selection import train_test_split\n",
    "from sklearn.ensemble import RandomForestRegressor\n",
    "from sklearn.metrics import mean_squared_error, mean_absolute_error\n",
    "import matplotlib.pyplot as plt\n",
    "import xgboost as xgb"
   ]
  },
  {
   "cell_type": "markdown",
   "metadata": {},
   "source": [
    "### One-Hot encoding\n",
    "\n",
    "- 범주형 데이터를 숫자형 데이;터로 변환하는 방법 중 하나\n",
    "- 일반적으로 단어를 벡터로 표현할 때 사용\n",
    "- Ex) \"나는\" -> [1.0, 0.2, 0.3]\n",
    "\n",
    "### 랜덤 포레스트 회귀 모델\n",
    "\n"
   ]
  },
  {
   "cell_type": "code",
   "execution_count": 6,
   "metadata": {},
   "outputs": [],
   "source": [
    "rates_df = get_df_strict_from(file_paths[\"rates\"])\n",
    "movies_df = get_df_strict_from(file_paths[\"movies\"], sep='\\t')\n",
    "genres_df = get_df_strict_from(file_paths[\"genres\"])\n",
    "\n",
    "rates_df = rates_df.drop('time', axis=1)\n",
    "\n",
    "movies_df['title_eng'] = movies_df['title_eng'].str.replace(r',\\s*\\d{4}', '', regex=True)\n",
    "\n",
    "genres_df = genres_df.drop_duplicates()"
   ]
  },
  {
   "cell_type": "code",
   "execution_count": 7,
   "metadata": {},
   "outputs": [
    {
     "name": "stdout",
     "output_type": "stream",
     "text": [
      "                   genres\n",
      "movie                    \n",
      "10001       [드라마, 멜로/로맨스]\n",
      "10002           [SF, 코미디]\n",
      "10003           [SF, 코미디]\n",
      "10004  [서부, SF, 판타지, 코미디]\n",
      "10005   [판타지, 모험, SF, 액션]\n"
     ]
    }
   ],
   "source": [
    "movie_genre = genres_df.groupby('movie')['genre'].apply(list)\n",
    "movie_genre = pd.DataFrame(movie_genre)\n",
    "movie_genre.columns = ['genres']\n",
    "print(movie_genre.head())"
   ]
  },
  {
   "cell_type": "code",
   "execution_count": 8,
   "metadata": {},
   "outputs": [
    {
     "name": "stdout",
     "output_type": "stream",
     "text": [
      "       SF  가족  공포  느와르  다큐멘터리  드라마  멜로/로맨스  모험  뮤지컬  미스터리  범죄  서부  서사  스릴러  \\\n",
      "movie                                                                        \n",
      "10001   0   0   0    0      0    1       1   0    0     0   0   0   0    0   \n",
      "10002   1   0   0    0      0    0       0   0    0     0   0   0   0    0   \n",
      "10003   1   0   0    0      0    0       0   0    0     0   0   0   0    0   \n",
      "10004   1   0   0    0      0    0       0   0    0     0   0   1   0    0   \n",
      "10005   1   0   0    0      0    0       0   1    0     0   0   0   0    0   \n",
      "\n",
      "       애니메이션  액션  에로  전쟁  코미디  판타지  \n",
      "movie                               \n",
      "10001      0   0   0   0    0    0  \n",
      "10002      0   0   0   0    1    0  \n",
      "10003      0   0   0   0    1    0  \n",
      "10004      0   0   0   0    1    1  \n",
      "10005      0   1   0   0    0    1  \n"
     ]
    }
   ],
   "source": [
    "from sklearn.preprocessing import MultiLabelBinarizer\n",
    "\n",
    "mlb = MultiLabelBinarizer()\n",
    "genre_encoded = mlb.fit_transform(movie_genre['genres'])\n",
    "genre_one_hot = pd.DataFrame(genre_encoded, columns=mlb.classes_).set_index(movie_genre.index)\n",
    "\n",
    "genres_encoded = pd.concat([movie_genre, genre_one_hot], axis=1).drop('genres', axis=1)\n",
    "\n",
    "print(genres_encoded.head())"
   ]
  },
  {
   "cell_type": "code",
   "execution_count": 9,
   "metadata": {},
   "outputs": [
    {
     "name": "stdout",
     "output_type": "stream",
     "text": [
      "   user  rate   SF   가족   공포  느와르  다큐멘터리  드라마  멜로/로맨스   모험  ...  movie_10978  \\\n",
      "0     0     7  1.0  0.0  0.0  0.0    0.0  0.0     0.0  0.0  ...        False   \n",
      "1     0     7  1.0  0.0  0.0  0.0    0.0  0.0     0.0  0.0  ...        False   \n",
      "2     0     9  1.0  1.0  0.0  0.0    0.0  0.0     0.0  1.0  ...        False   \n",
      "3     0     9  0.0  0.0  0.0  0.0    0.0  1.0     0.0  0.0  ...        False   \n",
      "4     0     7  0.0  0.0  0.0  0.0    0.0  1.0     0.0  0.0  ...        False   \n",
      "\n",
      "   movie_10979  movie_10980  movie_10981  movie_10982  movie_10983  \\\n",
      "0        False        False        False        False        False   \n",
      "1        False        False        False        False        False   \n",
      "2        False        False        False        False        False   \n",
      "3        False        False        False        False        False   \n",
      "4        False        False        False        False        False   \n",
      "\n",
      "   movie_10985  movie_10988  movie_10994  movie_10998  \n",
      "0        False        False        False        False  \n",
      "1        False        False        False        False  \n",
      "2        False        False        False        False  \n",
      "3        False        False        False        False  \n",
      "4        False        False        False        False  \n",
      "\n",
      "[5 rows x 622 columns]\n"
     ]
    }
   ],
   "source": [
    "user_movie_genre = pd.merge(rates_df, genres_encoded, how='left', on='movie')\n",
    "user_movie_genre = pd.get_dummies(user_movie_genre, columns=['movie'])\n",
    "print(user_movie_genre.head())"
   ]
  },
  {
   "cell_type": "code",
   "execution_count": 10,
   "metadata": {},
   "outputs": [],
   "source": [
    "\n",
    "X = user_movie_genre.drop('rate', axis=1)\n",
    "y = user_movie_genre['rate']\n"
   ]
  },
  {
   "cell_type": "code",
   "execution_count": 11,
   "metadata": {},
   "outputs": [],
   "source": [
    "X_train, X_test, y_train, y_test = train_test_split(X, y, test_size=0.2, random_state=42)"
   ]
  },
  {
   "cell_type": "code",
   "execution_count": 12,
   "metadata": {},
   "outputs": [],
   "source": [
    "# X = user_movie_genre_encoded.drop('rate', axis=1)\n",
    "# y = user_movie_genre_encoded['rate']\n",
    "\n",
    "# X_train, X_test, y_train, y_test = train_test_split(X, y, test_size=0.2, random_state=42)"
   ]
  },
  {
   "cell_type": "code",
   "execution_count": 14,
   "metadata": {},
   "outputs": [],
   "source": [
    "# n_estimators: number of Decision Tree\n",
    "rf_model = RandomForestRegressor(n_estimators=100, random_state=42)\n",
    "rf_model.fit(X_train, y_train)\n",
    "\n",
    "y_pred_rf = rf_model.predict(X_test)\n",
    "\n",
    "mse_rf = mean_squared_error(y_test, y_pred_rf)\n",
    "rmse_rf = np.sqrt(mse_rf)\n",
    "mae_rf = mean_absolute_error(y_test, y_pred_rf)"
   ]
  },
  {
   "cell_type": "code",
   "execution_count": 24,
   "metadata": {},
   "outputs": [
    {
     "name": "stdout",
     "output_type": "stream",
     "text": [
      "5.018067787810454 2.240104414488408 1.2579123576125413\n"
     ]
    }
   ],
   "source": [
    "print(mse_rf, rmse_rf, mae_rf)\n",
    "X_test_cp = X_test.copy()\n",
    "y_test_cp = y_test.copy()"
   ]
  },
  {
   "cell_type": "code",
   "execution_count": null,
   "metadata": {},
   "outputs": [
    {
     "name": "stdout",
     "output_type": "stream",
     "text": [
      "87069                                                       10\n",
      "44148                                                       10\n",
      "92462                                                       10\n",
      "62922                                                        9\n",
      "89565                                                       10\n",
      "                                   ...                        \n",
      "10627                                                        1\n",
      "24184                                                        9\n",
      "107702                                                      10\n",
      "31326                                                       10\n",
      "rate_pred    [4.51, 10.0, 10.0, 9.65, 9.93, 7.39, 9.9, 4.49...\n",
      "Name: rate, Length: 28143, dtype: object\n"
     ]
    }
   ],
   "source": []
  }
 ],
 "metadata": {
  "kernelspec": {
   "display_name": "test",
   "language": "python",
   "name": "python3"
  },
  "language_info": {
   "codemirror_mode": {
    "name": "ipython",
    "version": 3
   },
   "file_extension": ".py",
   "mimetype": "text/x-python",
   "name": "python",
   "nbconvert_exporter": "python",
   "pygments_lexer": "ipython3",
   "version": "3.12.7"
  }
 },
 "nbformat": 4,
 "nbformat_minor": 4
}
