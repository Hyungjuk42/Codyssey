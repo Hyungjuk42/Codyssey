{
 "cells": [
  {
   "cell_type": "markdown",
   "metadata": {
    "id": "lf9sC2qaiDc2"
   },
   "source": [
    "각 파일에서 어떤 데이터가 저장되어 있고 어떤 데이터 필드로 구성되어 있는지 파악하라\n",
    "pandas로 데이터를 확인하라\n",
    "사용자 수, 영화 수, 평점 수, 제작국가 수, 출연진 수, 장르 개수 등의 기본 통계를 확인하라."
   ]
  },
  {
   "cell_type": "code",
   "execution_count": 1,
   "metadata": {
    "colab": {
     "base_uri": "https://localhost:8080/"
    },
    "executionInfo": {
     "elapsed": 316,
     "status": "ok",
     "timestamp": 1734457243144,
     "user": {
      "displayName": "김형주",
      "userId": "11979035358902441652"
     },
     "user_tz": -540
    },
    "id": "Km_9AJfbcOs3",
    "outputId": "f0b28440-0c29-4928-e6a8-5ae74c0a154a"
   },
   "outputs": [
    {
     "name": "stdout",
     "output_type": "stream",
     "text": [
      "\n",
      "\n",
      "--- castings ---\n",
      "\n",
      "<class 'pandas.core.frame.DataFrame'>\n",
      "RangeIndex: 9776 entries, 0 to 9775\n",
      "Data columns (total 4 columns):\n",
      " #   Column   Non-Null Count  Dtype\n",
      "---  ------   --------------  -----\n",
      " 0   movie    9776 non-null   int64\n",
      " 1   people   9776 non-null   int64\n",
      " 2   order    9776 non-null   int64\n",
      " 3   leading  9776 non-null   int64\n",
      "dtypes: int64(4)\n",
      "memory usage: 305.6 KB\n",
      "None\n",
      "데이터 필드:\n",
      "['movie', 'people', 'order', 'leading']\n",
      "데이터 구성:\n",
      "   movie  people  order  leading\n",
      "0  10001    4374      1        1\n",
      "데이터 수: 9776\n",
      "\n",
      "\n",
      "--- countries ---\n",
      "\n",
      "<class 'pandas.core.frame.DataFrame'>\n",
      "RangeIndex: 1109 entries, 0 to 1108\n",
      "Data columns (total 2 columns):\n",
      " #   Column   Non-Null Count  Dtype \n",
      "---  ------   --------------  ----- \n",
      " 0   movie    1109 non-null   int64 \n",
      " 1   country  1109 non-null   object\n",
      "dtypes: int64(1), object(1)\n",
      "memory usage: 17.5+ KB\n",
      "None\n",
      "데이터 필드:\n",
      "['movie', 'country']\n",
      "데이터 구성:\n",
      "   movie country\n",
      "0  10001    이탈리아\n",
      "데이터 수: 1109\n",
      "\n",
      "\n",
      "--- genres ---\n",
      "\n",
      "<class 'pandas.core.frame.DataFrame'>\n",
      "RangeIndex: 2025 entries, 0 to 2024\n",
      "Data columns (total 2 columns):\n",
      " #   Column  Non-Null Count  Dtype \n",
      "---  ------  --------------  ----- \n",
      " 0   movie   2025 non-null   int64 \n",
      " 1   genre   2025 non-null   object\n",
      "dtypes: int64(1), object(1)\n",
      "memory usage: 31.8+ KB\n",
      "None\n",
      "데이터 필드:\n",
      "['movie', 'genre']\n",
      "데이터 구성:\n",
      "   movie genre\n",
      "0  10001   드라마\n",
      "데이터 수: 2025\n",
      "\n",
      "\n",
      "--- rates ---\n",
      "\n",
      "<class 'pandas.core.frame.DataFrame'>\n",
      "RangeIndex: 140710 entries, 0 to 140709\n",
      "Data columns (total 4 columns):\n",
      " #   Column  Non-Null Count   Dtype\n",
      "---  ------  --------------   -----\n",
      " 0   user    140710 non-null  int64\n",
      " 1   movie   140710 non-null  int64\n",
      " 2   rate    140710 non-null  int64\n",
      " 3   time    140710 non-null  int64\n",
      "dtypes: int64(4)\n",
      "memory usage: 4.3 MB\n",
      "None\n",
      "데이터 필드:\n",
      "['user', 'movie', 'rate', 'time']\n",
      "데이터 구성:\n",
      "   user  movie  rate        time\n",
      "0     0  10003     7  1494128040\n",
      "데이터 수: 140710\n",
      "\n",
      "\n",
      "--- movies ---\n",
      "\n",
      "<class 'pandas.core.frame.DataFrame'>\n",
      "RangeIndex: 999 entries, 0 to 998\n",
      "Data columns (total 5 columns):\n",
      " #   Column     Non-Null Count  Dtype  \n",
      "---  ------     --------------  -----  \n",
      " 0   movie      999 non-null    int64  \n",
      " 1   title      992 non-null    object \n",
      " 2   title_eng  991 non-null    object \n",
      " 3   year       609 non-null    float64\n",
      " 4   grade      957 non-null    object \n",
      "dtypes: float64(1), int64(1), object(3)\n",
      "memory usage: 39.2+ KB\n",
      "None\n",
      "데이터 필드:\n",
      "['movie', 'title', 'title_eng', 'year', 'grade']\n",
      "데이터 구성:\n",
      "   movie   title               title_eng    year   grade\n",
      "0  10001  시네마 천국  Cinema Paradiso , 1988  2013.0  전체 관람가\n",
      "데이터 수: 999\n",
      "\n",
      "\n",
      "--- peoples ---\n",
      "\n",
      "<class 'pandas.core.frame.DataFrame'>\n",
      "RangeIndex: 7172 entries, 0 to 7171\n",
      "Data columns (total 3 columns):\n",
      " #   Column    Non-Null Count  Dtype \n",
      "---  ------    --------------  ----- \n",
      " 0   people    7172 non-null   int64 \n",
      " 1   korean    7172 non-null   object\n",
      " 2   original  6305 non-null   object\n",
      "dtypes: int64(1), object(2)\n",
      "memory usage: 168.2+ KB\n",
      "None\n",
      "데이터 필드:\n",
      "['people', 'korean', 'original']\n",
      "데이터 구성:\n",
      "   people  korean      original\n",
      "0       5  아담 볼드윈  Adam Baldwin\n",
      "데이터 수: 7172\n"
     ]
    }
   ],
   "source": [
    "import pandas as pd\n",
    "\n",
    "file_names = [\n",
    "    'castings.csv',\n",
    "    'countries.csv',\n",
    "    'genres.csv',\n",
    "    'rates.csv',\n",
    "    'movies.txt',\n",
    "    'peoples.txt',\n",
    "]\n",
    "\n",
    "names = [file_name.split('.')[0] for file_name in file_names]\n",
    "\n",
    "data_list = dict()\n",
    "\n",
    "def get_dataset_from_file(path: str, sep: str = ','):\n",
    "  extension = path.split('.')[-1]\n",
    "  if extension == \"csv\":\n",
    "    return pd.read_csv(path, sep=sep, on_bad_lines='skip')\n",
    "  elif extension == \"txt\":\n",
    "    return pd.read_csv(path, sep='\\t', on_bad_lines='skip')\n",
    "\n",
    "for idx, file_name in enumerate(file_names):\n",
    "  file_path = f\"./kmrd-small/{file_name}\"\n",
    "  name = names[idx]\n",
    "  data_list[name] = get_dataset_from_file(file_path)\n",
    "  print(f\"\\n\\n--- {name} ---\\n\")\n",
    "  print(data_list[name].info())\n",
    "  print(f\"데이터 필드:\\n{data_list[name].columns.tolist()}\")\n",
    "  print(f\"데이터 구성:\\n{data_list[name].head(1)}\")\n",
    "  print(f\"데이터 수: {len(data_list[name])}\")"
   ]
  },
  {
   "cell_type": "code",
   "execution_count": 2,
   "metadata": {
    "id": "h9M9hsQmlEuV"
   },
   "outputs": [],
   "source": [
    "import re\n",
    "\n",
    "def split_and_eleminate_by_char(item_set: set, seperator: str) -> set:\n",
    "    result = set()\n",
    "    pattern = f\"[{re.escape(seperator)}]+\"\n",
    "    for item in item_set:\n",
    "        list_in_item = re.split(pattern, item)\n",
    "        result.update(set(list_in_item))\n",
    "    return result"
   ]
  },
  {
   "cell_type": "code",
   "execution_count": 3,
   "metadata": {
    "colab": {
     "base_uri": "https://localhost:8080/"
    },
    "executionInfo": {
     "elapsed": 496,
     "status": "ok",
     "timestamp": 1734456451133,
     "user": {
      "displayName": "김형주",
      "userId": "11979035358902441652"
     },
     "user_tz": -540
    },
    "id": "ryLbkiG2kvgJ",
    "outputId": "d3a198ff-8071-4795-cd7f-84f34083e5bd"
   },
   "outputs": [
    {
     "name": "stdout",
     "output_type": "stream",
     "text": [
      "사용자 수: 52028\n",
      "영화 수: 999\n",
      "평점 수: 140710\n",
      "제작국가 수: 36\n",
      "출연진 수: 7172\n",
      "장르 수: 21\n",
      "\n",
      "\n",
      "사용자 수: 52028\n",
      "영화 수: 999\n",
      "평점 수: 140710\n",
      "제작국가 수: 36\n",
      "출연진 수: 7172\n",
      "장르 수: 21\n"
     ]
    }
   ],
   "source": [
    "print(f\"사용자 수: {len(set(data_list['rates']['user']))}\")\n",
    "print(f\"영화 수: {len(set(data_list['movies']['movie']))}\")\n",
    "print(f\"평점 수: {len(data_list['rates'])}\")\n",
    "print(f\"제작국가 수: {len(set(data_list['countries']['country']))}\")\n",
    "print(f\"출연진 수: {len(set(data_list['peoples']['people']))}\")\n",
    "print(f\"장르 수: {len(pd.Series(data_list['genres']['genre'].str.split('/').sum()).unique())}\\n\\n\")\n",
    "\n",
    "print(f\"사용자 수: {len(data_list['rates']['user'].unique())}\")\n",
    "print(f\"영화 수: {len(data_list['movies']['movie'].unique())}\")\n",
    "print(f\"평점 수: {len(data_list['rates'])}\")\n",
    "print(f\"제작국가 수: {len(data_list['countries']['country'].unique())}\")\n",
    "print(f\"출연진 수: {len(data_list['peoples']['people'].unique())}\")\n",
    "print(f\"장르 수: {len(split_and_eleminate_by_char(set(data_list['genres']['genre']), '/'))}\")\n"
   ]
  },
  {
   "cell_type": "markdown",
   "metadata": {
    "id": "OBBI8cwoq_uV"
   },
   "source": [
    "- 데이터에 결측치와 이상치가 있는지 확인, 처리\n",
    "- 사용자별/영화별 평점 분포를 히스토그램, 박스 플롯으로 시각화하기"
   ]
  },
  {
   "cell_type": "markdown",
   "metadata": {
    "id": "exXMNGEYrUCn"
   },
   "source": [
    "#### 결측치와 이상치\n",
    "> 결측치\n",
    "- 데이터셋에서 특정 값이 누락된 것을 의미\n",
    "- 수집오류, 입력 실수, 의도적 누락, 병합 오류..\n",
    "- 종류\n",
    "  - MCAR(Missing Completely at Random)\n",
    "    결측치 발생이 완전히 무작위적이며 다른 변수나 값과 관계 없음\n",
    "  - MAR(Missing at Random)\n",
    "    결측치 발생이 특정 변수와는 관련 있지만 관측되지 않은 값과는 무관함\n",
    "  - MNAR(Missing Not at Random)\n",
    "    결측치 발생이 데이터 자체의 특성과 관련됨.\n",
    "\n",
    "> 이상치\n",
    "- 비상식적으로 크거나 작은 값. 동떨어진 값.\n",
    "- 입력, 시스템 오류, 자연스러운 변동\n",
    "- 종류\n",
    "  - 극단치, 고립된 이상치, Multivariate 이상치\n",
    "- 기술 통계 확인(IRQ)\n",
    "\n"
   ]
  },
  {
   "cell_type": "code",
   "execution_count": 4,
   "metadata": {
    "id": "LRy-MMJPltJy"
   },
   "outputs": [
    {
     "name": "stdout",
     "output_type": "stream",
     "text": [
      "9.0 10.0 1.0\n",
      "7.5 11.5\n",
      "rates len: 140710, outlier len: 120609\n"
     ]
    }
   ],
   "source": [
    "# 결측치 제거\n",
    "data_list_dropna = dict()\n",
    "for name in names:\n",
    "  data_list_dropna[name] = data_list[name].dropna()\n",
    "\n",
    "# 결측치 채우기\n",
    "data_list_fillna = dict()\n",
    "for name in names:\n",
    "  data_list_fillna[name] = data_list[name].fillna(0)\n",
    "\n",
    "# 이상치 제거\n",
    "df = data_list['rates']\n",
    "Q1 = df['rate'].quantile(0.25)\n",
    "Q3 = df['rate'].quantile(0.75)\n",
    "IQR = Q3 - Q1\n",
    "\n",
    "print(Q1, Q3, IQR)\n",
    "\n",
    "\n",
    "lower_bound = Q1 - 1.5 * IQR\n",
    "upper_bound = Q3 + 1.5 * IQR\n",
    "\n",
    "print(lower_bound, upper_bound)\n",
    "outliers = df[(df['rate'] >= lower_bound) & (df['rate'] <= upper_bound)]\n",
    "print(f\"rates len: {len(df)}, outlier len: {len(outliers)}\")"
   ]
  },
  {
   "cell_type": "code",
   "execution_count": 5,
   "metadata": {
    "colab": {
     "base_uri": "https://localhost:8080/"
    },
    "executionInfo": {
     "elapsed": 304,
     "status": "ok",
     "timestamp": 1734457496002,
     "user": {
      "displayName": "김형주",
      "userId": "11979035358902441652"
     },
     "user_tz": -540
    },
    "id": "RzrmBSyAt-VQ",
    "outputId": "da4c0829-d225-4e30-d7f6-45ba33efccc1"
   },
   "outputs": [
    {
     "name": "stdout",
     "output_type": "stream",
     "text": [
      "사용자 수: 52028\n",
      "영화 수: 599\n",
      "평점 수: 140710\n",
      "제작국가 수: 36\n",
      "출연진 수: 6305\n",
      "장르 수: 21\n",
      "\n",
      "\n",
      "사용자 수: 52028\n",
      "영화 수: 999\n",
      "평점 수: 140710\n",
      "제작국가 수: 36\n",
      "출연진 수: 7172\n",
      "장르 수: 21\n"
     ]
    }
   ],
   "source": [
    "\n",
    "print(f\"사용자 수: {len(data_list_dropna['rates']['user'].unique())}\")\n",
    "print(f\"영화 수: {len(data_list_dropna['movies']['movie'].unique())}\")\n",
    "print(f\"평점 수: {len(data_list_dropna['rates'])}\")\n",
    "print(f\"제작국가 수: {len(data_list_dropna['countries']['country'].unique())}\")\n",
    "print(f\"출연진 수: {len(data_list_dropna['peoples']['people'].unique())}\")\n",
    "print(f\"장르 수: {len(split_and_eleminate_by_char(set(data_list_dropna['genres']['genre']), '/'))}\\n\\n\")\n",
    "\n",
    "\n",
    "print(f\"사용자 수: {len(data_list['rates']['user'].unique())}\")\n",
    "print(f\"영화 수: {len(data_list['movies']['movie'].unique())}\")\n",
    "print(f\"평점 수: {len(data_list['rates'])}\")\n",
    "print(f\"제작국가 수: {len(data_list['countries']['country'].unique())}\")\n",
    "print(f\"출연진 수: {len(data_list['peoples']['people'].unique())}\")\n",
    "print(f\"장르 수: {len(split_and_eleminate_by_char(set(data_list['genres']['genre']), '/'))}\")"
   ]
  }
 ],
 "metadata": {
  "colab": {
   "authorship_tag": "ABX9TyOJwL2RAIA7JG3pfi3yqGae",
   "provenance": []
  },
  "kernelspec": {
   "display_name": "test",
   "language": "python",
   "name": "python3"
  },
  "language_info": {
   "codemirror_mode": {
    "name": "ipython",
    "version": 3
   },
   "file_extension": ".py",
   "mimetype": "text/x-python",
   "name": "python",
   "nbconvert_exporter": "python",
   "pygments_lexer": "ipython3",
   "version": "3.12.7"
  }
 },
 "nbformat": 4,
 "nbformat_minor": 0
}
