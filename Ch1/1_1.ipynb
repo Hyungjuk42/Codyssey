{
 "cells": [
  {
   "cell_type": "code",
   "execution_count": 1,
   "metadata": {},
   "outputs": [
    {
     "name": "stdout",
     "output_type": "stream",
     "text": [
      "Requirement already satisfied: pandas in /home/innovation/anaconda3/envs/test/lib/python3.12/site-packages (2.2.3)\n",
      "Requirement already satisfied: numpy>=1.26.0 in /home/innovation/anaconda3/envs/test/lib/python3.12/site-packages (from pandas) (1.26.4)\n",
      "Requirement already satisfied: python-dateutil>=2.8.2 in /home/innovation/anaconda3/envs/test/lib/python3.12/site-packages (from pandas) (2.9.0.post0)\n",
      "Requirement already satisfied: pytz>=2020.1 in /home/innovation/anaconda3/envs/test/lib/python3.12/site-packages (from pandas) (2024.2)\n",
      "Requirement already satisfied: tzdata>=2022.7 in /home/innovation/anaconda3/envs/test/lib/python3.12/site-packages (from pandas) (2024.2)\n",
      "Requirement already satisfied: six>=1.5 in /home/innovation/anaconda3/envs/test/lib/python3.12/site-packages (from python-dateutil>=2.8.2->pandas) (1.16.0)\n"
     ]
    }
   ],
   "source": [
    "!pip install pandas"
   ]
  },
  {
   "cell_type": "markdown",
   "metadata": {},
   "source": [
    "- 데이터는 제공되는 파일인 prob-0101.csv를 사용한다.\n",
    "- 영화 개수, 배급사 수, 감독 수, 출연진 수, 장르 수를 파악한다.\n",
    "- 감독, 출연진 등 중복 조건들에 대해 파악한다.\n",
    "- 본인이 추천하고 싶은 기준을 설정한다.\n",
    "- 본인의 기준에 의해 영화 몇개를 추천하는 것이 적당한지 실험해 본다.\n",
    "- 다양한 접근 조회 방법을 실험한다. (감독, 출연진 중복, 장르별 등)\n",
    "- 개인별로 정한 기준이 서로 어떻게 다른지 확인한다."
   ]
  },
  {
   "cell_type": "code",
   "execution_count": 16,
   "metadata": {},
   "outputs": [
    {
     "name": "stdout",
     "output_type": "stream",
     "text": [
      "전체 데이터 수 : 59\n"
     ]
    },
    {
     "data": {
      "text/plain": [
       "['개봉일', '제목', '배급사', '감독', '출연진', '장르']"
      ]
     },
     "execution_count": 16,
     "metadata": {},
     "output_type": "execute_result"
    }
   ],
   "source": [
    "import pandas as pd\n",
    "\n",
    "file_path = './prob-0101.csv'\n",
    "df = pd.read_csv(file_path)\n",
    "\n",
    "print(f'전체 데이터 수 : {len(df)}')\n",
    "\n",
    "column_list = df.columns.tolist()\n",
    "column_list"
   ]
  },
  {
   "cell_type": "code",
   "execution_count": 32,
   "metadata": {},
   "outputs": [
    {
     "name": "stdout",
     "output_type": "stream",
     "text": [
      "단순히 중복되지 않은 개봉일 수 : 32\n",
      "32 {'2023-03-29', '2023-03-23', '2023-02-22', '2023-03-01', '2023-05-18', '2023-01-05', '2023-06-14', '2023-06-08', '2023-03-08', '2023-04-27', '2023-06-07', '2023-04-12', '2023-04-06', '2023-05-31', '2023-05-24', '2023-02-17', '2023-06-28', '2023-04-14', '2023-02-08', '2023-02-23', '2023-01-25', '2023-04-05', '2023-05-10', '2023-05-17', '2023-03-15', '2023-01-04', '2023-06-21', '2023-01-18', '2023-04-26', '2023-01-20', '2023-01-12', '2023-04-19'}\n",
      "단순히 중복되지 않은 제목 수 : 59\n",
      "59 {'나는 여기에 있다', '제비', '밥만 잘 사주는 이상한 이사님 극장판', '롱디', '불멸의 여자', '스트리머', '박하경 여행기', '10일간의 애인', '라방', '2퍼센트', '교섭', '킬링 로맨스', '익스트림 페스티벌', '살수', '유령', '웅남이', '안나푸르나', '장기자랑', '대외비', '소울메이트', '스위치', '낭만 캠퍼스', '여섯 개의 밤', '바람개비', '드림', '오늘 출가합니다', '손', '그대 어이가리', '카운트', '컨버세이션', '찬란한 나의 복수', '드림팰리스', '강남좀비', '스마트폰을 떨어뜨렸을 뿐인데', '솔라 플라워', '어쩌면 우린 헤어졌는지 모른다', '범죄도시 3', '낭만적 공장', '실버맨', '육지것들', '정이', '흐르다', '멍뭉이', '아수라장: 범털들의 전쟁', '우리 사랑이 향기로 남을 때', '말이야 바른 말이지', '사랑의 고고학', '열여덟, 어른이 되는 나이', '남자는 처음을 원하고 여자는 마지막을 원한다', '스프린터', '귀공자', '인드림', '별 볼일 없는 인생', '리바운드', '물안에서', '보이지 않아', '다음 소희', '여덟 번째 감각', '튤립 모양'}\n",
      "단순히 중복되지 않은 배급사 수 : 52\n",
      "52 {'(주)영화특별시 에스엠씨', '와이드릴리즈(주)', '(주)영화사 순수', '(주)CJ ENM', '(주)원더스튜디오', '(주)스토리제이', '플렉스엠엔터테인먼트', '영화제작전원사, 콘텐츠판다', '(주)그노스', '플러스엠엔터테인먼트', '㈜스토리제이', '스튜디오 에이드', '(주)넥스트엔터테인먼트', '넷플릭스', '(주)에이비오엔터테인먼트', '트윈플러스파트너스(주)', '(주)제이앤씨미디어그룹', '트리플픽쳐스', '트윈플러스파트너스', '(주)영화사오윈', '(주)와이드릴리즈', '(주)바른손이앤아이', 'CJ CGV', 'TCO(주)더콘텐츠온', '필름 다빈', '롯데컬쳐웍스 (주)롯데엔터테인먼트', '(주)엣나인필름', 'CJ엔터테인먼트', 'M&M 인터내셔널', '(주)씨엠닉스', '(주)인디스토리', '(주)영화사 진진', '(주)트리플픽쳐스', '시네마뉴원', '(주)플렉스엠엔터테인먼트', '(주)디스테이션', '(주)넥스트엔터테인먼트월드', '시네마 뉴원', '롯데컬처웍스, (주)롯데엔터테인먼트', '(주)콘텐츠윙', '(주)이눌미디어', '(주)콘텐츠존, (주)다자인소프트', '씨에스픽쳐스', '(주)와이웍스엔터테인먼트', '(주)CJ CGV', '삼거리픽쳐스', '(주)이놀미디어', '(주)플레이그램', '아웃런브라더스픽쳐스', '드림팩트엔터테인먼트', '(주)시네마달', '영화배급협동조합 씨네소파'}\n",
      "단순히 중복되지 않은 감독 수 : 58\n",
      "58 {'임성용', '이상훈', '이현준', '최주연', '신재호', '문신구', '이수성', '이상용', '이송희일', '가성문', '양윤모', '최윤호', '김태준', '최창환', '서동현', '마대윤', '조은성', '곽정덕', '이창열', '이해영', '이원석', '이완민', '이황', '황승제', '김현정', '이영용', '정주리', '최종태', '박동기', '이종필', '장형모', '박성광', '홍상수', '김주환', '연상호', '이병헌', '양경희', '민용근', '한경탁', '최세환', '김성환', '이소현', '김덕중', '최승연', '형슬우', '권혁재', '주영', '박훈정', '임순례', '장항준', '윤여창', '배인우', '임재완', '임성운', '[1]', '이원태', '김홍기', '신근호'}\n",
      "단순히 중복되지 않은 출연진 수 : 59\n",
      "263 {'박강섭', '박영훈', '장영준', '고창석', '박소진', '노상현', '박소감', '김준형', '김정팔', '신현준', '유연석', '염혜란', '김용준', '박소이', '이설구', '조은지', '김모범', '류경수', '서효림', '김소형', '이노아', '정영주', '이준혁', '변우석', '기윤', '김종수', '양한열', '강윤', '이태규', '한다솔', '김민경', '김승수', '소이', '송덕호', '박선호', '신민재', '홍완표', '서현우', '서지후', '윤박', '배누리', '이지훈', '채수아', '백지혜', '이성민', '강수연', '이범수', '이미경', '조수빈', '김도건', '이이경', '설인아', '박유나', '이푸름', '이영석', '임지섭', '김다현', '박순천', '허웅', '박성웅', '최성원', '노수산나', '정서하', '김시은', '박상욱', '임시완', '나현준', '한가은', '강길우', '이문식', '김희원', '전혜진', '한승도', '서동원', '이동휘', '이규복', '심현탁', '홍은기', '신석호', '심소영', '오원빈', '진혜원', '이설', '현진영', '박수영', '장원혁', '박혜영', '김강현', '오달수', '김준', '최민영', '고규필', '설유진', '김영웅', '박성일', '한규원', '심영은', '이하늬', '유재인', '장동윤', '오정세', '이경준', '박유신', '박해인', '안세호', '이장유', '김수하', '유인수', '송은지', '김무열', '유지애', '설경구', '백수련', '조한선', '김경일', '정은채', '차선우', '김소희', '하성국', '김재화', '장희령', '유다인', '김순덕', '오나라', '김명임', '오경화', '최우준', '김선영', '조윤서', '공명', '박종진', '이한주', '공민정', '이음', '지일주', '정지운', '인내상', '박종환', '이세호', '정수지', '이지용', '최지연', '김민희', '이나영', '무네타카', '정다은', '이지원', '정아미', '신의현', '성유빈', '정인기', '방진원', '하민호', '정승길', '김소령', '박우영', '오준택', '박정우', '박지수', '김민', '윤제문', '양홍주', '박정철', '이민정', '신애리', '안재홍', '장동주', '정수하', '김기호', '권상우', '심희섭', '최민수', '안수호', '윤성모', '최동구', '박동기', '남보라', '전소니', '김선호', '옥자연', '김동희', '선동혁', '강태주', '진선규', '김도현', '허준석', '강진아', '안미나', '이선균', '김현주', '우지현', '정가은', '전신환', '이재원', '문희경', '박서준', '배두나', '서지안', '홍준영', '김우겸', '송민경', '서지희', '박현숙', '한태경', '임선우', '김승윤', '김봉주', '노지유', '임지호', '오지호', '천우희', '박호산', '김정균', '정유연', '조민재', '김민재', '이경욱', '이현우', '신사랑', '이원석', '김세환', '차태현', '아이유', '정태우', '윤가현', '조진웅', '황정민', '지연', '김명찬', '권민혁', '마동석', '윤시윤', '김상욱', '문지인', '이윤지', '곽민규', '정병훈', '정혜인', '배진아', '서벽준', '고아라', '김희정', '김강우', '한수연', '김다미', '박해수', '정미미', '양현민', '강기영', '전석호', '곽진무', '신연서', '아오키', '이대연', '변중희', '이용녀', '남명렬', '송보은', '현빈', '서은채', '최준혁', '박미현', '허지나'}\n",
      "단순히 중복되지 않은 장르 수 : 20\n",
      "14 {'다큐멘터리', '멜로', '코미디', '기타', 'SF', '드라마', '스럴리', '공포', '범죄', '가족', '액션', '스릴러', '로맨스', '미스터리'}\n"
     ]
    }
   ],
   "source": [
    "import re\n",
    "\n",
    "without_dup_items = dict()\n",
    "without_dup_num = dict()\n",
    "\n",
    "def split_and_eleminate_by_char(item_set: set, seperator: str) -> set:\n",
    "    result = set()\n",
    "    pattern = f\"[{re.escape(seperator)}]+\"\n",
    "    for item in item_set:\n",
    "        list_in_item = re.split(pattern, item)\n",
    "        result.update(set(list_in_item))\n",
    "    return result\n",
    "\n",
    "\n",
    "\n",
    "for column in column_list:\n",
    "    unique_values = df[column].nunique(dropna=True)\n",
    "    print(f'단순히 중복되지 않은 {column} 수 : {unique_values}')\n",
    "    without_dup_item = set(df[column])\n",
    "    if column == \"출연진\" :\n",
    "        without_dup_item = split_and_eleminate_by_char(without_dup_item, \", \")\n",
    "    if column == \"장르\" :\n",
    "        without_dup_item = split_and_eleminate_by_char(without_dup_item, \", ·/\")\n",
    "    print(len(without_dup_item), without_dup_item)\n",
    "    without_dup_num[column] = len(without_dup_item)\n",
    "    without_dup_items[column] = without_dup_item\n",
    "    # print(df[column][~df[column].duplicated(keep=False)])\n"
   ]
  },
  {
   "cell_type": "code",
   "execution_count": 33,
   "metadata": {},
   "outputs": [
    {
     "name": "stdout",
     "output_type": "stream",
     "text": [
      "{'개봉일': {'2023-03-29', '2023-03-23', '2023-02-22', '2023-03-01', '2023-05-18', '2023-01-05', '2023-06-14', '2023-06-08', '2023-03-08', '2023-04-27', '2023-06-07', '2023-04-12', '2023-04-06', '2023-05-31', '2023-05-24', '2023-02-17', '2023-06-28', '2023-04-14', '2023-02-08', '2023-02-23', '2023-01-25', '2023-04-05', '2023-05-10', '2023-05-17', '2023-03-15', '2023-01-04', '2023-06-21', '2023-01-18', '2023-04-26', '2023-01-20', '2023-01-12', '2023-04-19'}, '제목': {'나는 여기에 있다', '제비', '밥만 잘 사주는 이상한 이사님 극장판', '롱디', '불멸의 여자', '스트리머', '박하경 여행기', '10일간의 애인', '라방', '2퍼센트', '교섭', '킬링 로맨스', '익스트림 페스티벌', '살수', '유령', '웅남이', '안나푸르나', '장기자랑', '대외비', '소울메이트', '스위치', '낭만 캠퍼스', '여섯 개의 밤', '바람개비', '드림', '오늘 출가합니다', '손', '그대 어이가리', '카운트', '컨버세이션', '찬란한 나의 복수', '드림팰리스', '강남좀비', '스마트폰을 떨어뜨렸을 뿐인데', '솔라 플라워', '어쩌면 우린 헤어졌는지 모른다', '범죄도시 3', '낭만적 공장', '실버맨', '육지것들', '정이', '흐르다', '멍뭉이', '아수라장: 범털들의 전쟁', '우리 사랑이 향기로 남을 때', '말이야 바른 말이지', '사랑의 고고학', '열여덟, 어른이 되는 나이', '남자는 처음을 원하고 여자는 마지막을 원한다', '스프린터', '귀공자', '인드림', '별 볼일 없는 인생', '리바운드', '물안에서', '보이지 않아', '다음 소희', '여덟 번째 감각', '튤립 모양'}, '배급사': {'(주)영화특별시 에스엠씨', '와이드릴리즈(주)', '(주)영화사 순수', '(주)CJ ENM', '(주)원더스튜디오', '(주)스토리제이', '플렉스엠엔터테인먼트', '영화제작전원사, 콘텐츠판다', '(주)그노스', '플러스엠엔터테인먼트', '㈜스토리제이', '스튜디오 에이드', '(주)넥스트엔터테인먼트', '넷플릭스', '(주)에이비오엔터테인먼트', '트윈플러스파트너스(주)', '(주)제이앤씨미디어그룹', '트리플픽쳐스', '트윈플러스파트너스', '(주)영화사오윈', '(주)와이드릴리즈', '(주)바른손이앤아이', 'CJ CGV', 'TCO(주)더콘텐츠온', '필름 다빈', '롯데컬쳐웍스 (주)롯데엔터테인먼트', '(주)엣나인필름', 'CJ엔터테인먼트', 'M&M 인터내셔널', '(주)씨엠닉스', '(주)인디스토리', '(주)영화사 진진', '(주)트리플픽쳐스', '시네마뉴원', '(주)플렉스엠엔터테인먼트', '(주)디스테이션', '(주)넥스트엔터테인먼트월드', '시네마 뉴원', '롯데컬처웍스, (주)롯데엔터테인먼트', '(주)콘텐츠윙', '(주)이눌미디어', '(주)콘텐츠존, (주)다자인소프트', '씨에스픽쳐스', '(주)와이웍스엔터테인먼트', '(주)CJ CGV', '삼거리픽쳐스', '(주)이놀미디어', '(주)플레이그램', '아웃런브라더스픽쳐스', '드림팩트엔터테인먼트', '(주)시네마달', '영화배급협동조합 씨네소파'}, '감독': {'임성용', '이상훈', '이현준', '최주연', '신재호', '문신구', '이수성', '이상용', '이송희일', '가성문', '양윤모', '최윤호', '김태준', '최창환', '서동현', '마대윤', '조은성', '곽정덕', '이창열', '이해영', '이원석', '이완민', '이황', '황승제', '김현정', '이영용', '정주리', '최종태', '박동기', '이종필', '장형모', '박성광', '홍상수', '김주환', '연상호', '이병헌', '양경희', '민용근', '한경탁', '최세환', '김성환', '이소현', '김덕중', '최승연', '형슬우', '권혁재', '주영', '박훈정', '임순례', '장항준', '윤여창', '배인우', '임재완', '임성운', '[1]', '이원태', '김홍기', '신근호'}, '출연진': {'박강섭', '박영훈', '장영준', '고창석', '박소진', '노상현', '박소감', '김준형', '김정팔', '신현준', '유연석', '염혜란', '김용준', '박소이', '이설구', '조은지', '김모범', '류경수', '서효림', '김소형', '이노아', '정영주', '이준혁', '변우석', '기윤', '김종수', '양한열', '강윤', '이태규', '한다솔', '김민경', '김승수', '소이', '송덕호', '박선호', '신민재', '홍완표', '서현우', '서지후', '윤박', '배누리', '이지훈', '채수아', '백지혜', '이성민', '강수연', '이범수', '이미경', '조수빈', '김도건', '이이경', '설인아', '박유나', '이푸름', '이영석', '임지섭', '김다현', '박순천', '허웅', '박성웅', '최성원', '노수산나', '정서하', '김시은', '박상욱', '임시완', '나현준', '한가은', '강길우', '이문식', '김희원', '전혜진', '한승도', '서동원', '이동휘', '이규복', '심현탁', '홍은기', '신석호', '심소영', '오원빈', '진혜원', '이설', '현진영', '박수영', '장원혁', '박혜영', '김강현', '오달수', '김준', '최민영', '고규필', '설유진', '김영웅', '박성일', '한규원', '심영은', '이하늬', '유재인', '장동윤', '오정세', '이경준', '박유신', '박해인', '안세호', '이장유', '김수하', '유인수', '송은지', '김무열', '유지애', '설경구', '백수련', '조한선', '김경일', '정은채', '차선우', '김소희', '하성국', '김재화', '장희령', '유다인', '김순덕', '오나라', '김명임', '오경화', '최우준', '김선영', '조윤서', '공명', '박종진', '이한주', '공민정', '이음', '지일주', '정지운', '인내상', '박종환', '이세호', '정수지', '이지용', '최지연', '김민희', '이나영', '무네타카', '정다은', '이지원', '정아미', '신의현', '성유빈', '정인기', '방진원', '하민호', '정승길', '김소령', '박우영', '오준택', '박정우', '박지수', '김민', '윤제문', '양홍주', '박정철', '이민정', '신애리', '안재홍', '장동주', '정수하', '김기호', '권상우', '심희섭', '최민수', '안수호', '윤성모', '최동구', '박동기', '남보라', '전소니', '김선호', '옥자연', '김동희', '선동혁', '강태주', '진선규', '김도현', '허준석', '강진아', '안미나', '이선균', '김현주', '우지현', '정가은', '전신환', '이재원', '문희경', '박서준', '배두나', '서지안', '홍준영', '김우겸', '송민경', '서지희', '박현숙', '한태경', '임선우', '김승윤', '김봉주', '노지유', '임지호', '오지호', '천우희', '박호산', '김정균', '정유연', '조민재', '김민재', '이경욱', '이현우', '신사랑', '이원석', '김세환', '차태현', '아이유', '정태우', '윤가현', '조진웅', '황정민', '지연', '김명찬', '권민혁', '마동석', '윤시윤', '김상욱', '문지인', '이윤지', '곽민규', '정병훈', '정혜인', '배진아', '서벽준', '고아라', '김희정', '김강우', '한수연', '김다미', '박해수', '정미미', '양현민', '강기영', '전석호', '곽진무', '신연서', '아오키', '이대연', '변중희', '이용녀', '남명렬', '송보은', '현빈', '서은채', '최준혁', '박미현', '허지나'}, '장르': {'다큐멘터리', '멜로', '코미디', '기타', 'SF', '드라마', '스럴리', '공포', '범죄', '가족', '액션', '스릴러', '로맨스', '미스터리'}}\n",
      "{'개봉일': 32, '제목': 59, '배급사': 52, '감독': 58, '출연진': 263, '장르': 14}\n"
     ]
    }
   ],
   "source": [
    "print(without_dup_items)\n",
    "print(without_dup_num)"
   ]
  },
  {
   "cell_type": "markdown",
   "metadata": {},
   "source": [
    "- 감독, 출연진, 장르를 기준으로\n",
    "- 상위 20%\n",
    "- 검색 방식 만들기"
   ]
  },
  {
   "cell_type": "code",
   "execution_count": null,
   "metadata": {},
   "outputs": [
    {
     "ename": "error",
     "evalue": "unterminated character set at position 0",
     "output_type": "error",
     "traceback": [
      "\u001b[0;31m---------------------------------------------------------------------------\u001b[0m",
      "\u001b[0;31merror\u001b[0m                                     Traceback (most recent call last)",
      "Cell \u001b[0;32mIn[37], line 3\u001b[0m\n\u001b[1;32m      1\u001b[0m \u001b[38;5;66;03m# 파싱한 새로운 column 추가하기\u001b[39;00m\n\u001b[0;32m----> 3\u001b[0m df[\u001b[38;5;124m'\u001b[39m\u001b[38;5;124mparsed_actor\u001b[39m\u001b[38;5;124m'\u001b[39m] \u001b[38;5;241m=\u001b[39m \u001b[43mdf\u001b[49m\u001b[43m[\u001b[49m\u001b[38;5;124;43m'\u001b[39;49m\u001b[38;5;124;43m출연진\u001b[39;49m\u001b[38;5;124;43m'\u001b[39;49m\u001b[43m]\u001b[49m\u001b[38;5;241;43m.\u001b[39;49m\u001b[43mapply\u001b[49m\u001b[43m(\u001b[49m\u001b[38;5;28;43;01mlambda\u001b[39;49;00m\u001b[43m \u001b[49m\u001b[43mx\u001b[49m\u001b[43m:\u001b[49m\u001b[43m \u001b[49m\u001b[43msplit_and_eleminate_by_char\u001b[49m\u001b[43m(\u001b[49m\u001b[38;5;28;43mset\u001b[39;49m\u001b[43m(\u001b[49m\u001b[43mx\u001b[49m\u001b[43m)\u001b[49m\u001b[43m,\u001b[49m\u001b[43m \u001b[49m\u001b[38;5;124;43m\"\u001b[39;49m\u001b[38;5;124;43m\"\u001b[39;49m\u001b[43m)\u001b[49m\u001b[43m)\u001b[49m\n\u001b[1;32m      5\u001b[0m \u001b[38;5;28mprint\u001b[39m(df[\u001b[38;5;124m'\u001b[39m\u001b[38;5;124mparsed_actor\u001b[39m\u001b[38;5;124m'\u001b[39m])\n",
      "File \u001b[0;32m~/anaconda3/envs/test/lib/python3.12/site-packages/pandas/core/series.py:4924\u001b[0m, in \u001b[0;36mSeries.apply\u001b[0;34m(self, func, convert_dtype, args, by_row, **kwargs)\u001b[0m\n\u001b[1;32m   4789\u001b[0m \u001b[38;5;28;01mdef\u001b[39;00m \u001b[38;5;21mapply\u001b[39m(\n\u001b[1;32m   4790\u001b[0m     \u001b[38;5;28mself\u001b[39m,\n\u001b[1;32m   4791\u001b[0m     func: AggFuncType,\n\u001b[0;32m   (...)\u001b[0m\n\u001b[1;32m   4796\u001b[0m     \u001b[38;5;241m*\u001b[39m\u001b[38;5;241m*\u001b[39mkwargs,\n\u001b[1;32m   4797\u001b[0m ) \u001b[38;5;241m-\u001b[39m\u001b[38;5;241m>\u001b[39m DataFrame \u001b[38;5;241m|\u001b[39m Series:\n\u001b[1;32m   4798\u001b[0m \u001b[38;5;250m    \u001b[39m\u001b[38;5;124;03m\"\"\"\u001b[39;00m\n\u001b[1;32m   4799\u001b[0m \u001b[38;5;124;03m    Invoke function on values of Series.\u001b[39;00m\n\u001b[1;32m   4800\u001b[0m \n\u001b[0;32m   (...)\u001b[0m\n\u001b[1;32m   4915\u001b[0m \u001b[38;5;124;03m    dtype: float64\u001b[39;00m\n\u001b[1;32m   4916\u001b[0m \u001b[38;5;124;03m    \"\"\"\u001b[39;00m\n\u001b[1;32m   4917\u001b[0m     \u001b[38;5;28;01mreturn\u001b[39;00m \u001b[43mSeriesApply\u001b[49m\u001b[43m(\u001b[49m\n\u001b[1;32m   4918\u001b[0m \u001b[43m        \u001b[49m\u001b[38;5;28;43mself\u001b[39;49m\u001b[43m,\u001b[49m\n\u001b[1;32m   4919\u001b[0m \u001b[43m        \u001b[49m\u001b[43mfunc\u001b[49m\u001b[43m,\u001b[49m\n\u001b[1;32m   4920\u001b[0m \u001b[43m        \u001b[49m\u001b[43mconvert_dtype\u001b[49m\u001b[38;5;241;43m=\u001b[39;49m\u001b[43mconvert_dtype\u001b[49m\u001b[43m,\u001b[49m\n\u001b[1;32m   4921\u001b[0m \u001b[43m        \u001b[49m\u001b[43mby_row\u001b[49m\u001b[38;5;241;43m=\u001b[39;49m\u001b[43mby_row\u001b[49m\u001b[43m,\u001b[49m\n\u001b[1;32m   4922\u001b[0m \u001b[43m        \u001b[49m\u001b[43margs\u001b[49m\u001b[38;5;241;43m=\u001b[39;49m\u001b[43margs\u001b[49m\u001b[43m,\u001b[49m\n\u001b[1;32m   4923\u001b[0m \u001b[43m        \u001b[49m\u001b[43mkwargs\u001b[49m\u001b[38;5;241;43m=\u001b[39;49m\u001b[43mkwargs\u001b[49m\u001b[43m,\u001b[49m\n\u001b[0;32m-> 4924\u001b[0m \u001b[43m    \u001b[49m\u001b[43m)\u001b[49m\u001b[38;5;241;43m.\u001b[39;49m\u001b[43mapply\u001b[49m\u001b[43m(\u001b[49m\u001b[43m)\u001b[49m\n",
      "File \u001b[0;32m~/anaconda3/envs/test/lib/python3.12/site-packages/pandas/core/apply.py:1427\u001b[0m, in \u001b[0;36mSeriesApply.apply\u001b[0;34m(self)\u001b[0m\n\u001b[1;32m   1424\u001b[0m     \u001b[38;5;28;01mreturn\u001b[39;00m \u001b[38;5;28mself\u001b[39m\u001b[38;5;241m.\u001b[39mapply_compat()\n\u001b[1;32m   1426\u001b[0m \u001b[38;5;66;03m# self.func is Callable\u001b[39;00m\n\u001b[0;32m-> 1427\u001b[0m \u001b[38;5;28;01mreturn\u001b[39;00m \u001b[38;5;28;43mself\u001b[39;49m\u001b[38;5;241;43m.\u001b[39;49m\u001b[43mapply_standard\u001b[49m\u001b[43m(\u001b[49m\u001b[43m)\u001b[49m\n",
      "File \u001b[0;32m~/anaconda3/envs/test/lib/python3.12/site-packages/pandas/core/apply.py:1507\u001b[0m, in \u001b[0;36mSeriesApply.apply_standard\u001b[0;34m(self)\u001b[0m\n\u001b[1;32m   1501\u001b[0m \u001b[38;5;66;03m# row-wise access\u001b[39;00m\n\u001b[1;32m   1502\u001b[0m \u001b[38;5;66;03m# apply doesn't have a `na_action` keyword and for backward compat reasons\u001b[39;00m\n\u001b[1;32m   1503\u001b[0m \u001b[38;5;66;03m# we need to give `na_action=\"ignore\"` for categorical data.\u001b[39;00m\n\u001b[1;32m   1504\u001b[0m \u001b[38;5;66;03m# TODO: remove the `na_action=\"ignore\"` when that default has been changed in\u001b[39;00m\n\u001b[1;32m   1505\u001b[0m \u001b[38;5;66;03m#  Categorical (GH51645).\u001b[39;00m\n\u001b[1;32m   1506\u001b[0m action \u001b[38;5;241m=\u001b[39m \u001b[38;5;124m\"\u001b[39m\u001b[38;5;124mignore\u001b[39m\u001b[38;5;124m\"\u001b[39m \u001b[38;5;28;01mif\u001b[39;00m \u001b[38;5;28misinstance\u001b[39m(obj\u001b[38;5;241m.\u001b[39mdtype, CategoricalDtype) \u001b[38;5;28;01melse\u001b[39;00m \u001b[38;5;28;01mNone\u001b[39;00m\n\u001b[0;32m-> 1507\u001b[0m mapped \u001b[38;5;241m=\u001b[39m \u001b[43mobj\u001b[49m\u001b[38;5;241;43m.\u001b[39;49m\u001b[43m_map_values\u001b[49m\u001b[43m(\u001b[49m\n\u001b[1;32m   1508\u001b[0m \u001b[43m    \u001b[49m\u001b[43mmapper\u001b[49m\u001b[38;5;241;43m=\u001b[39;49m\u001b[43mcurried\u001b[49m\u001b[43m,\u001b[49m\u001b[43m \u001b[49m\u001b[43mna_action\u001b[49m\u001b[38;5;241;43m=\u001b[39;49m\u001b[43maction\u001b[49m\u001b[43m,\u001b[49m\u001b[43m \u001b[49m\u001b[43mconvert\u001b[49m\u001b[38;5;241;43m=\u001b[39;49m\u001b[38;5;28;43mself\u001b[39;49m\u001b[38;5;241;43m.\u001b[39;49m\u001b[43mconvert_dtype\u001b[49m\n\u001b[1;32m   1509\u001b[0m \u001b[43m\u001b[49m\u001b[43m)\u001b[49m\n\u001b[1;32m   1511\u001b[0m \u001b[38;5;28;01mif\u001b[39;00m \u001b[38;5;28mlen\u001b[39m(mapped) \u001b[38;5;129;01mand\u001b[39;00m \u001b[38;5;28misinstance\u001b[39m(mapped[\u001b[38;5;241m0\u001b[39m], ABCSeries):\n\u001b[1;32m   1512\u001b[0m     \u001b[38;5;66;03m# GH#43986 Need to do list(mapped) in order to get treated as nested\u001b[39;00m\n\u001b[1;32m   1513\u001b[0m     \u001b[38;5;66;03m#  See also GH#25959 regarding EA support\u001b[39;00m\n\u001b[1;32m   1514\u001b[0m     \u001b[38;5;28;01mreturn\u001b[39;00m obj\u001b[38;5;241m.\u001b[39m_constructor_expanddim(\u001b[38;5;28mlist\u001b[39m(mapped), index\u001b[38;5;241m=\u001b[39mobj\u001b[38;5;241m.\u001b[39mindex)\n",
      "File \u001b[0;32m~/anaconda3/envs/test/lib/python3.12/site-packages/pandas/core/base.py:921\u001b[0m, in \u001b[0;36mIndexOpsMixin._map_values\u001b[0;34m(self, mapper, na_action, convert)\u001b[0m\n\u001b[1;32m    918\u001b[0m \u001b[38;5;28;01mif\u001b[39;00m \u001b[38;5;28misinstance\u001b[39m(arr, ExtensionArray):\n\u001b[1;32m    919\u001b[0m     \u001b[38;5;28;01mreturn\u001b[39;00m arr\u001b[38;5;241m.\u001b[39mmap(mapper, na_action\u001b[38;5;241m=\u001b[39mna_action)\n\u001b[0;32m--> 921\u001b[0m \u001b[38;5;28;01mreturn\u001b[39;00m \u001b[43malgorithms\u001b[49m\u001b[38;5;241;43m.\u001b[39;49m\u001b[43mmap_array\u001b[49m\u001b[43m(\u001b[49m\u001b[43marr\u001b[49m\u001b[43m,\u001b[49m\u001b[43m \u001b[49m\u001b[43mmapper\u001b[49m\u001b[43m,\u001b[49m\u001b[43m \u001b[49m\u001b[43mna_action\u001b[49m\u001b[38;5;241;43m=\u001b[39;49m\u001b[43mna_action\u001b[49m\u001b[43m,\u001b[49m\u001b[43m \u001b[49m\u001b[43mconvert\u001b[49m\u001b[38;5;241;43m=\u001b[39;49m\u001b[43mconvert\u001b[49m\u001b[43m)\u001b[49m\n",
      "File \u001b[0;32m~/anaconda3/envs/test/lib/python3.12/site-packages/pandas/core/algorithms.py:1743\u001b[0m, in \u001b[0;36mmap_array\u001b[0;34m(arr, mapper, na_action, convert)\u001b[0m\n\u001b[1;32m   1741\u001b[0m values \u001b[38;5;241m=\u001b[39m arr\u001b[38;5;241m.\u001b[39mastype(\u001b[38;5;28mobject\u001b[39m, copy\u001b[38;5;241m=\u001b[39m\u001b[38;5;28;01mFalse\u001b[39;00m)\n\u001b[1;32m   1742\u001b[0m \u001b[38;5;28;01mif\u001b[39;00m na_action \u001b[38;5;129;01mis\u001b[39;00m \u001b[38;5;28;01mNone\u001b[39;00m:\n\u001b[0;32m-> 1743\u001b[0m     \u001b[38;5;28;01mreturn\u001b[39;00m \u001b[43mlib\u001b[49m\u001b[38;5;241;43m.\u001b[39;49m\u001b[43mmap_infer\u001b[49m\u001b[43m(\u001b[49m\u001b[43mvalues\u001b[49m\u001b[43m,\u001b[49m\u001b[43m \u001b[49m\u001b[43mmapper\u001b[49m\u001b[43m,\u001b[49m\u001b[43m \u001b[49m\u001b[43mconvert\u001b[49m\u001b[38;5;241;43m=\u001b[39;49m\u001b[43mconvert\u001b[49m\u001b[43m)\u001b[49m\n\u001b[1;32m   1744\u001b[0m \u001b[38;5;28;01melse\u001b[39;00m:\n\u001b[1;32m   1745\u001b[0m     \u001b[38;5;28;01mreturn\u001b[39;00m lib\u001b[38;5;241m.\u001b[39mmap_infer_mask(\n\u001b[1;32m   1746\u001b[0m         values, mapper, mask\u001b[38;5;241m=\u001b[39misna(values)\u001b[38;5;241m.\u001b[39mview(np\u001b[38;5;241m.\u001b[39muint8), convert\u001b[38;5;241m=\u001b[39mconvert\n\u001b[1;32m   1747\u001b[0m     )\n",
      "File \u001b[0;32mlib.pyx:2972\u001b[0m, in \u001b[0;36mpandas._libs.lib.map_infer\u001b[0;34m()\u001b[0m\n",
      "Cell \u001b[0;32mIn[37], line 3\u001b[0m, in \u001b[0;36m<lambda>\u001b[0;34m(x)\u001b[0m\n\u001b[1;32m      1\u001b[0m \u001b[38;5;66;03m# 파싱한 새로운 column 추가하기\u001b[39;00m\n\u001b[0;32m----> 3\u001b[0m df[\u001b[38;5;124m'\u001b[39m\u001b[38;5;124mparsed_actor\u001b[39m\u001b[38;5;124m'\u001b[39m] \u001b[38;5;241m=\u001b[39m df[\u001b[38;5;124m'\u001b[39m\u001b[38;5;124m출연진\u001b[39m\u001b[38;5;124m'\u001b[39m]\u001b[38;5;241m.\u001b[39mapply(\u001b[38;5;28;01mlambda\u001b[39;00m x: \u001b[43msplit_and_eleminate_by_char\u001b[49m\u001b[43m(\u001b[49m\u001b[38;5;28;43mset\u001b[39;49m\u001b[43m(\u001b[49m\u001b[43mx\u001b[49m\u001b[43m)\u001b[49m\u001b[43m,\u001b[49m\u001b[43m \u001b[49m\u001b[38;5;124;43m\"\u001b[39;49m\u001b[38;5;124;43m\"\u001b[39;49m\u001b[43m)\u001b[49m)\n\u001b[1;32m      5\u001b[0m \u001b[38;5;28mprint\u001b[39m(df[\u001b[38;5;124m'\u001b[39m\u001b[38;5;124mparsed_actor\u001b[39m\u001b[38;5;124m'\u001b[39m])\n",
      "Cell \u001b[0;32mIn[32], line 10\u001b[0m, in \u001b[0;36msplit_and_eleminate_by_char\u001b[0;34m(item_set, seperator)\u001b[0m\n\u001b[1;32m      8\u001b[0m pattern \u001b[38;5;241m=\u001b[39m \u001b[38;5;124mf\u001b[39m\u001b[38;5;124m\"\u001b[39m\u001b[38;5;124m[\u001b[39m\u001b[38;5;132;01m{\u001b[39;00mre\u001b[38;5;241m.\u001b[39mescape(seperator)\u001b[38;5;132;01m}\u001b[39;00m\u001b[38;5;124m]+\u001b[39m\u001b[38;5;124m\"\u001b[39m\n\u001b[1;32m      9\u001b[0m \u001b[38;5;28;01mfor\u001b[39;00m item \u001b[38;5;129;01min\u001b[39;00m item_set:\n\u001b[0;32m---> 10\u001b[0m     list_in_item \u001b[38;5;241m=\u001b[39m \u001b[43mre\u001b[49m\u001b[38;5;241;43m.\u001b[39;49m\u001b[43msplit\u001b[49m\u001b[43m(\u001b[49m\u001b[43mpattern\u001b[49m\u001b[43m,\u001b[49m\u001b[43m \u001b[49m\u001b[43mitem\u001b[49m\u001b[43m)\u001b[49m\n\u001b[1;32m     11\u001b[0m     result\u001b[38;5;241m.\u001b[39mupdate(\u001b[38;5;28mset\u001b[39m(list_in_item))\n\u001b[1;32m     12\u001b[0m \u001b[38;5;28;01mreturn\u001b[39;00m result\n",
      "File \u001b[0;32m~/anaconda3/envs/test/lib/python3.12/re/__init__.py:207\u001b[0m, in \u001b[0;36msplit\u001b[0;34m(pattern, string, maxsplit, flags)\u001b[0m\n\u001b[1;32m    199\u001b[0m \u001b[38;5;28;01mdef\u001b[39;00m \u001b[38;5;21msplit\u001b[39m(pattern, string, maxsplit\u001b[38;5;241m=\u001b[39m\u001b[38;5;241m0\u001b[39m, flags\u001b[38;5;241m=\u001b[39m\u001b[38;5;241m0\u001b[39m):\n\u001b[1;32m    200\u001b[0m \u001b[38;5;250m    \u001b[39m\u001b[38;5;124;03m\"\"\"Split the source string by the occurrences of the pattern,\u001b[39;00m\n\u001b[1;32m    201\u001b[0m \u001b[38;5;124;03m    returning a list containing the resulting substrings.  If\u001b[39;00m\n\u001b[1;32m    202\u001b[0m \u001b[38;5;124;03m    capturing parentheses are used in pattern, then the text of all\u001b[39;00m\n\u001b[0;32m   (...)\u001b[0m\n\u001b[1;32m    205\u001b[0m \u001b[38;5;124;03m    and the remainder of the string is returned as the final element\u001b[39;00m\n\u001b[1;32m    206\u001b[0m \u001b[38;5;124;03m    of the list.\"\"\"\u001b[39;00m\n\u001b[0;32m--> 207\u001b[0m     \u001b[38;5;28;01mreturn\u001b[39;00m \u001b[43m_compile\u001b[49m\u001b[43m(\u001b[49m\u001b[43mpattern\u001b[49m\u001b[43m,\u001b[49m\u001b[43m \u001b[49m\u001b[43mflags\u001b[49m\u001b[43m)\u001b[49m\u001b[38;5;241m.\u001b[39msplit(string, maxsplit)\n",
      "File \u001b[0;32m~/anaconda3/envs/test/lib/python3.12/re/__init__.py:307\u001b[0m, in \u001b[0;36m_compile\u001b[0;34m(pattern, flags)\u001b[0m\n\u001b[1;32m    301\u001b[0m     \u001b[38;5;28;01mimport\u001b[39;00m \u001b[38;5;21;01mwarnings\u001b[39;00m\n\u001b[1;32m    302\u001b[0m     warnings\u001b[38;5;241m.\u001b[39mwarn(\u001b[38;5;124m\"\u001b[39m\u001b[38;5;124mThe re.TEMPLATE/re.T flag is deprecated \u001b[39m\u001b[38;5;124m\"\u001b[39m\n\u001b[1;32m    303\u001b[0m             \u001b[38;5;124m\"\u001b[39m\u001b[38;5;124mas it is an undocumented flag \u001b[39m\u001b[38;5;124m\"\u001b[39m\n\u001b[1;32m    304\u001b[0m             \u001b[38;5;124m\"\u001b[39m\u001b[38;5;124mwithout an obvious purpose. \u001b[39m\u001b[38;5;124m\"\u001b[39m\n\u001b[1;32m    305\u001b[0m             \u001b[38;5;124m\"\u001b[39m\u001b[38;5;124mDon\u001b[39m\u001b[38;5;124m'\u001b[39m\u001b[38;5;124mt use it.\u001b[39m\u001b[38;5;124m\"\u001b[39m,\n\u001b[1;32m    306\u001b[0m             \u001b[38;5;167;01mDeprecationWarning\u001b[39;00m)\n\u001b[0;32m--> 307\u001b[0m p \u001b[38;5;241m=\u001b[39m \u001b[43m_compiler\u001b[49m\u001b[38;5;241;43m.\u001b[39;49m\u001b[43mcompile\u001b[49m\u001b[43m(\u001b[49m\u001b[43mpattern\u001b[49m\u001b[43m,\u001b[49m\u001b[43m \u001b[49m\u001b[43mflags\u001b[49m\u001b[43m)\u001b[49m\n\u001b[1;32m    308\u001b[0m \u001b[38;5;28;01mif\u001b[39;00m flags \u001b[38;5;241m&\u001b[39m DEBUG:\n\u001b[1;32m    309\u001b[0m     \u001b[38;5;28;01mreturn\u001b[39;00m p\n",
      "File \u001b[0;32m~/anaconda3/envs/test/lib/python3.12/re/_compiler.py:745\u001b[0m, in \u001b[0;36mcompile\u001b[0;34m(p, flags)\u001b[0m\n\u001b[1;32m    743\u001b[0m \u001b[38;5;28;01mif\u001b[39;00m isstring(p):\n\u001b[1;32m    744\u001b[0m     pattern \u001b[38;5;241m=\u001b[39m p\n\u001b[0;32m--> 745\u001b[0m     p \u001b[38;5;241m=\u001b[39m \u001b[43m_parser\u001b[49m\u001b[38;5;241;43m.\u001b[39;49m\u001b[43mparse\u001b[49m\u001b[43m(\u001b[49m\u001b[43mp\u001b[49m\u001b[43m,\u001b[49m\u001b[43m \u001b[49m\u001b[43mflags\u001b[49m\u001b[43m)\u001b[49m\n\u001b[1;32m    746\u001b[0m \u001b[38;5;28;01melse\u001b[39;00m:\n\u001b[1;32m    747\u001b[0m     pattern \u001b[38;5;241m=\u001b[39m \u001b[38;5;28;01mNone\u001b[39;00m\n",
      "File \u001b[0;32m~/anaconda3/envs/test/lib/python3.12/re/_parser.py:979\u001b[0m, in \u001b[0;36mparse\u001b[0;34m(str, flags, state)\u001b[0m\n\u001b[1;32m    976\u001b[0m state\u001b[38;5;241m.\u001b[39mflags \u001b[38;5;241m=\u001b[39m flags\n\u001b[1;32m    977\u001b[0m state\u001b[38;5;241m.\u001b[39mstr \u001b[38;5;241m=\u001b[39m \u001b[38;5;28mstr\u001b[39m\n\u001b[0;32m--> 979\u001b[0m p \u001b[38;5;241m=\u001b[39m \u001b[43m_parse_sub\u001b[49m\u001b[43m(\u001b[49m\u001b[43msource\u001b[49m\u001b[43m,\u001b[49m\u001b[43m \u001b[49m\u001b[43mstate\u001b[49m\u001b[43m,\u001b[49m\u001b[43m \u001b[49m\u001b[43mflags\u001b[49m\u001b[43m \u001b[49m\u001b[38;5;241;43m&\u001b[39;49m\u001b[43m \u001b[49m\u001b[43mSRE_FLAG_VERBOSE\u001b[49m\u001b[43m,\u001b[49m\u001b[43m \u001b[49m\u001b[38;5;241;43m0\u001b[39;49m\u001b[43m)\u001b[49m\n\u001b[1;32m    980\u001b[0m p\u001b[38;5;241m.\u001b[39mstate\u001b[38;5;241m.\u001b[39mflags \u001b[38;5;241m=\u001b[39m fix_flags(\u001b[38;5;28mstr\u001b[39m, p\u001b[38;5;241m.\u001b[39mstate\u001b[38;5;241m.\u001b[39mflags)\n\u001b[1;32m    982\u001b[0m \u001b[38;5;28;01mif\u001b[39;00m source\u001b[38;5;241m.\u001b[39mnext \u001b[38;5;129;01mis\u001b[39;00m \u001b[38;5;129;01mnot\u001b[39;00m \u001b[38;5;28;01mNone\u001b[39;00m:\n",
      "File \u001b[0;32m~/anaconda3/envs/test/lib/python3.12/re/_parser.py:460\u001b[0m, in \u001b[0;36m_parse_sub\u001b[0;34m(source, state, verbose, nested)\u001b[0m\n\u001b[1;32m    458\u001b[0m start \u001b[38;5;241m=\u001b[39m source\u001b[38;5;241m.\u001b[39mtell()\n\u001b[1;32m    459\u001b[0m \u001b[38;5;28;01mwhile\u001b[39;00m \u001b[38;5;28;01mTrue\u001b[39;00m:\n\u001b[0;32m--> 460\u001b[0m     itemsappend(\u001b[43m_parse\u001b[49m\u001b[43m(\u001b[49m\u001b[43msource\u001b[49m\u001b[43m,\u001b[49m\u001b[43m \u001b[49m\u001b[43mstate\u001b[49m\u001b[43m,\u001b[49m\u001b[43m \u001b[49m\u001b[43mverbose\u001b[49m\u001b[43m,\u001b[49m\u001b[43m \u001b[49m\u001b[43mnested\u001b[49m\u001b[43m \u001b[49m\u001b[38;5;241;43m+\u001b[39;49m\u001b[43m \u001b[49m\u001b[38;5;241;43m1\u001b[39;49m\u001b[43m,\u001b[49m\n\u001b[1;32m    461\u001b[0m \u001b[43m                       \u001b[49m\u001b[38;5;129;43;01mnot\u001b[39;49;00m\u001b[43m \u001b[49m\u001b[43mnested\u001b[49m\u001b[43m \u001b[49m\u001b[38;5;129;43;01mand\u001b[39;49;00m\u001b[43m \u001b[49m\u001b[38;5;129;43;01mnot\u001b[39;49;00m\u001b[43m \u001b[49m\u001b[43mitems\u001b[49m\u001b[43m)\u001b[49m)\n\u001b[1;32m    462\u001b[0m     \u001b[38;5;28;01mif\u001b[39;00m \u001b[38;5;129;01mnot\u001b[39;00m sourcematch(\u001b[38;5;124m\"\u001b[39m\u001b[38;5;124m|\u001b[39m\u001b[38;5;124m\"\u001b[39m):\n\u001b[1;32m    463\u001b[0m         \u001b[38;5;28;01mbreak\u001b[39;00m\n",
      "File \u001b[0;32m~/anaconda3/envs/test/lib/python3.12/re/_parser.py:568\u001b[0m, in \u001b[0;36m_parse\u001b[0;34m(source, state, verbose, nested, first)\u001b[0m\n\u001b[1;32m    566\u001b[0m this \u001b[38;5;241m=\u001b[39m sourceget()\n\u001b[1;32m    567\u001b[0m \u001b[38;5;28;01mif\u001b[39;00m this \u001b[38;5;129;01mis\u001b[39;00m \u001b[38;5;28;01mNone\u001b[39;00m:\n\u001b[0;32m--> 568\u001b[0m     \u001b[38;5;28;01mraise\u001b[39;00m source\u001b[38;5;241m.\u001b[39merror(\u001b[38;5;124m\"\u001b[39m\u001b[38;5;124munterminated character set\u001b[39m\u001b[38;5;124m\"\u001b[39m,\n\u001b[1;32m    569\u001b[0m                        source\u001b[38;5;241m.\u001b[39mtell() \u001b[38;5;241m-\u001b[39m here)\n\u001b[1;32m    570\u001b[0m \u001b[38;5;28;01mif\u001b[39;00m this \u001b[38;5;241m==\u001b[39m \u001b[38;5;124m\"\u001b[39m\u001b[38;5;124m]\u001b[39m\u001b[38;5;124m\"\u001b[39m \u001b[38;5;129;01mand\u001b[39;00m \u001b[38;5;28mset\u001b[39m:\n\u001b[1;32m    571\u001b[0m     \u001b[38;5;28;01mbreak\u001b[39;00m\n",
      "\u001b[0;31merror\u001b[0m: unterminated character set at position 0"
     ]
    }
   ],
   "source": [
    "# 파싱한 새로운 column 추가하기\n",
    "\n",
    "df['parsed_actor'] = df['출연진'].apply(lambda x: split_and_eleminate_by_char())\n",
    "\n",
    "print(df['parsed_actor'])"
   ]
  }
 ],
 "metadata": {
  "kernelspec": {
   "display_name": "test",
   "language": "python",
   "name": "python3"
  },
  "language_info": {
   "codemirror_mode": {
    "name": "ipython",
    "version": 3
   },
   "file_extension": ".py",
   "mimetype": "text/x-python",
   "name": "python",
   "nbconvert_exporter": "python",
   "pygments_lexer": "ipython3",
   "version": "3.12.7"
  }
 },
 "nbformat": 4,
 "nbformat_minor": 2
}
