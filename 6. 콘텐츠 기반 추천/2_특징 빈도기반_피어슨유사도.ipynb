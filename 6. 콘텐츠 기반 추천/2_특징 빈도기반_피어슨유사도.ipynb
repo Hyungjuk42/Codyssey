{
 "cells": [
  {
   "cell_type": "markdown",
   "metadata": {},
   "source": [
    "### 개념\n",
    "- 문서 단어 행렬(Document Term Matrix, DTM)\n",
    "- 피어슨 상관계수(Pearson correlation coefficient)\n"
   ]
  },
  {
   "cell_type": "code",
   "execution_count": 1,
   "metadata": {},
   "outputs": [],
   "source": [
    "import os"
   ]
  },
  {
   "cell_type": "code",
   "execution_count": null,
   "metadata": {},
   "outputs": [
    {
     "name": "stdout",
     "output_type": "stream",
     "text": [
      "../public/prob-0101.csv\n",
      "../public/kmrd-small/genres.csv\n"
     ]
    },
    {
     "ename": "TypeError",
     "evalue": "expected str, bytes or os.PathLike object, not dict",
     "output_type": "error",
     "traceback": [
      "\u001b[0;31m---------------------------------------------------------------------------\u001b[0m",
      "\u001b[0;31mTypeError\u001b[0m                                 Traceback (most recent call last)",
      "Cell \u001b[0;32mIn[11], line 24\u001b[0m\n\u001b[1;32m     21\u001b[0m         path \u001b[38;5;241m=\u001b[39m os\u001b[38;5;241m.\u001b[39mpath\u001b[38;5;241m.\u001b[39mjoin(\u001b[38;5;241m*\u001b[39mdefault_file_path, f_info[\u001b[38;5;124m'\u001b[39m\u001b[38;5;124mname\u001b[39m\u001b[38;5;124m'\u001b[39m])\n\u001b[1;32m     22\u001b[0m     \u001b[38;5;28mprint\u001b[39m(path)\n\u001b[0;32m---> 24\u001b[0m file_path \u001b[38;5;241m=\u001b[39m \u001b[43mos\u001b[49m\u001b[38;5;241;43m.\u001b[39;49m\u001b[43mpath\u001b[49m\u001b[38;5;241;43m.\u001b[39;49m\u001b[43mjoin\u001b[49m\u001b[43m(\u001b[49m\u001b[38;5;241;43m*\u001b[39;49m\u001b[43mfile_path\u001b[49m\u001b[43m,\u001b[49m\u001b[43m \u001b[49m\u001b[43mfile_name\u001b[49m\u001b[43m)\u001b[49m\n",
      "File \u001b[0;32m<frozen posixpath>:76\u001b[0m, in \u001b[0;36mjoin\u001b[0;34m(a, *p)\u001b[0m\n",
      "\u001b[0;31mTypeError\u001b[0m: expected str, bytes or os.PathLike object, not dict"
     ]
    }
   ],
   "source": [
    "# prob-0101.csv 파일을 읽고 데이터 전처리하는 클래스 만들기\n",
    "# prob-0101.csv에서 2023년 1월 개봉 영화 추출하기\n",
    "\n",
    "default_file_path = [\"..\", \"public\", \"kmrd-small\"]\n",
    "file_path = [[]]\n",
    "\n",
    "file_path = [\n",
    "    {\n",
    "        \"path\": [\"..\", \"public\",],\n",
    "        \"name\": 'prob-0101.csv'\n",
    "    },\n",
    "    {\n",
    "        \"name\": 'genres.csv'\n",
    "    },\n",
    "]\n",
    "\n",
    "for f_info in file_path:\n",
    "    if f_info.get(\"path\"):\n",
    "        path = os.path.join(*f_info['path'], f_info['name'])\n",
    "    else:\n",
    "        path = os.path.join(*default_file_path, f_info['name'])\n",
    "    print(path)\n",
    "\n",
    "\n",
    "\n",
    "\n"
   ]
  },
  {
   "cell_type": "code",
   "execution_count": 3,
   "metadata": {},
   "outputs": [
    {
     "name": "stdout",
     "output_type": "stream",
     "text": [
      "../public/prob-0101.csv\n"
     ]
    }
   ],
   "source": [
    "print(file_path)"
   ]
  }
 ],
 "metadata": {
  "kernelspec": {
   "display_name": "test",
   "language": "python",
   "name": "python3"
  },
  "language_info": {
   "codemirror_mode": {
    "name": "ipython",
    "version": 3
   },
   "file_extension": ".py",
   "mimetype": "text/x-python",
   "name": "python",
   "nbconvert_exporter": "python",
   "pygments_lexer": "ipython3",
   "version": "3.12.7"
  }
 },
 "nbformat": 4,
 "nbformat_minor": 2
}
