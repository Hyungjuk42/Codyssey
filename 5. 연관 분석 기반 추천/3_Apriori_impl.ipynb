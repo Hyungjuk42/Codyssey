{
 "cells": [
  {
   "cell_type": "markdown",
   "metadata": {},
   "source": [
    "\n",
    "**1. 구매 행렬표 생성:**\n",
    "\n",
    "| 사용자 | 가위손 | 나 홀로 집에 | 다이하드 | 블레이드 러너 | 아마데우스 | 죽은 시인의 사회 |\n",
    "|---|---|---|---|---|---|---|\n",
    "| 1 | True | False | True | True | False | False |\n",
    "| 2 | False | False | False | True | True | True |\n",
    "| 3 | True | True | False | False | False | True |\n",
    "| 4 | False | False | True | True | False | False |\n",
    "| 5 | False | False | False | False | True | True |\n",
    "\n",
    "**2. 1개 영화에 대한 지지도 계산:**\n",
    "\n",
    "각 영화의 지지도를 계산 \n",
    "  > 지지도:  전체 사용자 수(5명) 중 해당 영화를 구매한 사용자 수의 비율\n",
    "\n",
    "*   가위손: 2/5 = 0.4\n",
    "*   나 홀로 집에: 1/5 = 0.2\n",
    "*   다이하드: 2/5 = 0.4\n",
    "*   블레이드 러너: 3/5 = 0.6\n",
    "*   아마데우스: 2/5 = 0.4\n",
    "*   죽은 시인의 사회: 3/5 = 0.6\n",
    "\n",
    "**3. 지지도가 가장 낮은 영화 제외:**\n",
    "\n",
    "가장 낮은 지지도를 가진 영화는 \"나 홀로 집에\"(0.2)입니다. 이 영화를 제외합니다.\n",
    "\n",
    "**4. 남은 영화로 2개씩 짝을 지어 지지도 계산:**\n",
    "\n",
    "남은 영화들로 가능한 모든 2개 조합을 만들고 지지도를 계산\n",
    "\n",
    "*   (가위손, 다이하드): 1/5 = 0.2\n",
    "*   (가위손, 블레이드 러너): 1/5 = 0.2\n",
    "*   (가위손, 아마데우스): 0/5 = 0\n",
    "*   (가위손, 죽은 시인의 사회): 1/5 = 0.2\n",
    "*   (다이하드, 블레이드 러너): 2/5 = 0.4\n",
    "*   (다이하드, 아마데우스): 0/5 = 0\n",
    "*   (다이하드, 죽은 시인의 사회): 0/5 = 0\n",
    "*   (블레이드 러너, 아마데우스): 1/5 = 0.2\n",
    "*   (블레이드 러너, 죽은 시인의 사회): 2/5 = 0.4\n",
    "*   (아마데우스, 죽은 시인의 사회): 2/5 = 0.4\n",
    "\n",
    "**5. 지지도가 가장 낮은 조합 제외:**\n",
    "\n",
    "지지도가 0인 조합들과 지지도가 가장 낮은 0.2 지지도 조합을 제외\n",
    "\n",
    "**6. 남은 조합으로 3개씩 짝을 지어 지지도 계산 (반복):**\n",
    "\n",
    "남은 조합은 (다이하드, 블레이드 러너), (블레이드 러너, 죽은 시인의 사회), (아마데우스, 죽은 시인의 사회) 입니다. 이 조합들을 기반으로 3개 조합을 만들어야 하는데, 2개 조합만 남아있으므로 3개 조합은 만들 수 없습니다. 따라서 이 단계에서 종료됩니다.\n",
    "\n",
    "**7. 최종 결과 및 해석:**\n",
    "\n",
    "최소 지지도를 0.4로 가정했을 때, 남은 빈발 항목 집합은 다음과 같습니다.\n",
    "\n",
    "*   {다이하드, 블레이드 러너}\n",
    "*   {블레이드 러너, 죽은 시인의 사회}\n",
    "*   {아마데우스, 죽은 시인의 사회}\n",
    "\n",
    "이는 \"다이하드와 블레이드 러너를 함께 본 사람\", \"블레이드 러너와 죽은 시인의 사회를 함께 본 사람\", \"아마데우스와 죽은 시인의 사회를 함께 본 사람\"이 전체 사용자 중 40% 이상이라는 것을 의미합니다.\n"
   ]
  },
  {
   "cell_type": "code",
   "execution_count": 1,
   "metadata": {},
   "outputs": [],
   "source": [
    "from itertools import combinations\n",
    "import pandas as pd\n",
    "import numpy as np\n",
    "from mlxtend.preprocessing import TransactionEncoder\n",
    "from mlxtend.frequent_patterns import apriori, association_rules"
   ]
  },
  {
   "cell_type": "code",
   "execution_count": 2,
   "metadata": {},
   "outputs": [],
   "source": [
    "data = {\n",
    "    'user': [1, 2, 3, 4, 5],\n",
    "    'movie_list': [\n",
    "        ['가위손', '다이하드', '블레이드 러너'],\n",
    "        ['블레이드 러너', '아마데우스', '죽은 시인의 사회'],\n",
    "        ['가위손', '나 홀로 집에', '죽은 시인의 사회'],\n",
    "        ['다이하드', '블레이드 러너'],\n",
    "        ['죽은 시인의 사회', '아마데우스'],\n",
    "    ]\n",
    "}\n",
    "\n",
    "df = pd.DataFrame(data)"
   ]
  },
  {
   "cell_type": "code",
   "execution_count": 3,
   "metadata": {},
   "outputs": [
    {
     "name": "stdout",
     "output_type": "stream",
     "text": [
      "## 구매 행렬표 ##\n",
      "     가위손  나 홀로 집에   다이하드  블레이드 러너  아마데우스  죽은 시인의 사회\n",
      "0   True    False   True     True  False      False\n",
      "1  False    False  False     True   True       True\n",
      "2   True     True  False    False  False       True\n",
      "3  False    False   True     True  False      False\n",
      "4  False    False  False    False   True       True\n"
     ]
    }
   ],
   "source": [
    "# 트랜젝션 데이터(장바구니 분석, 연관 규칙 학습 등의 분야에서 데이터 전처리) 전치리용 도구\n",
    "te = TransactionEncoder()\n",
    "\n",
    "# numpy 형태로 반환한다.\n",
    "te_ary = te.fit(df['movie_list']).transform(df['movie_list'])\n",
    "\n",
    "df_encoded = pd.DataFrame(te_ary, columns=te.columns_)\n",
    "\n",
    "print(\"## 구매 행렬표 ##\")\n",
    "# print(te_ary)\n",
    "print(df_encoded)"
   ]
  },
  {
   "cell_type": "code",
   "execution_count": 4,
   "metadata": {},
   "outputs": [
    {
     "name": "stdout",
     "output_type": "stream",
     "text": [
      "## 빈발 항목 집합 ##\n",
      "   support            itemsets\n",
      "0      0.4               (가위손)\n",
      "1      0.4              (다이하드)\n",
      "2      0.6           (블레이드 러너)\n",
      "3      0.4             (아마데우스)\n",
      "4      0.6         (죽은 시인의 사회)\n",
      "5      0.4     (블레이드 러너, 다이하드)\n",
      "6      0.4  (죽은 시인의 사회, 아마데우스)\n"
     ]
    }
   ],
   "source": [
    "min_support = 0.4\n",
    "frequent_itemsets = apriori(df_encoded, min_support=min_support, use_colnames=True)\n",
    "\n",
    "print(\"## 빈발 항목 집합 ##\")\n",
    "print(frequent_itemsets)"
   ]
  },
  {
   "cell_type": "code",
   "execution_count": 5,
   "metadata": {},
   "outputs": [
    {
     "name": "stdout",
     "output_type": "stream",
     "text": [
      "## 연관 규칙 (신뢰도 기준) ##\n",
      "   antecedents  consequents  antecedent support  consequent support  support  \\\n",
      "0    (블레이드 러너)       (다이하드)                 0.6                 0.4      0.4   \n",
      "1       (다이하드)    (블레이드 러너)                 0.4                 0.6      0.4   \n",
      "2  (죽은 시인의 사회)      (아마데우스)                 0.6                 0.4      0.4   \n",
      "3      (아마데우스)  (죽은 시인의 사회)                 0.4                 0.6      0.4   \n",
      "\n",
      "   confidence      lift  representativity  leverage  conviction  \\\n",
      "0    0.666667  1.666667               1.0      0.16         1.8   \n",
      "1    1.000000  1.666667               1.0      0.16         inf   \n",
      "2    0.666667  1.666667               1.0      0.16         1.8   \n",
      "3    1.000000  1.666667               1.0      0.16         inf   \n",
      "\n",
      "   zhangs_metric   jaccard  certainty  kulczynski  \n",
      "0       1.000000  0.666667   0.444444    0.833333  \n",
      "1       0.666667  0.666667   1.000000    0.833333  \n",
      "2       1.000000  0.666667   0.444444    0.833333  \n",
      "3       0.666667  0.666667   1.000000    0.833333  \n",
      "\n",
      "\n",
      "## 연관 규칙 (향상도 기준) ##\n",
      "   antecedents  consequents  antecedent support  consequent support  support  \\\n",
      "0    (블레이드 러너)       (다이하드)                 0.6                 0.4      0.4   \n",
      "1       (다이하드)    (블레이드 러너)                 0.4                 0.6      0.4   \n",
      "2  (죽은 시인의 사회)      (아마데우스)                 0.6                 0.4      0.4   \n",
      "3      (아마데우스)  (죽은 시인의 사회)                 0.4                 0.6      0.4   \n",
      "\n",
      "   confidence      lift  representativity  leverage  conviction  \\\n",
      "0    0.666667  1.666667               1.0      0.16         1.8   \n",
      "1    1.000000  1.666667               1.0      0.16         inf   \n",
      "2    0.666667  1.666667               1.0      0.16         1.8   \n",
      "3    1.000000  1.666667               1.0      0.16         inf   \n",
      "\n",
      "   zhangs_metric   jaccard  certainty  kulczynski  \n",
      "0       1.000000  0.666667   0.444444    0.833333  \n",
      "1       0.666667  0.666667   1.000000    0.833333  \n",
      "2       1.000000  0.666667   0.444444    0.833333  \n",
      "3       0.666667  0.666667   1.000000    0.833333  \n",
      "\n",
      "\n"
     ]
    }
   ],
   "source": [
    "rules = association_rules(frequent_itemsets, num_itemsets=len(frequent_itemsets), metric=\"confidence\", min_threshold=0.5)\n",
    "rules_lift = association_rules(frequent_itemsets, num_itemsets=len(frequent_itemsets), metric=\"lift\", min_threshold=1)\n",
    "\n",
    "print(\"## 연관 규칙 (신뢰도 기준) ##\")\n",
    "print(rules)\n",
    "print(\"\\n\")\n",
    "\n",
    "print(\"## 연관 규칙 (향상도 기준) ##\")\n",
    "print(rules_lift)\n",
    "print(\"\\n\")"
   ]
  },
  {
   "cell_type": "code",
   "execution_count": 6,
   "metadata": {},
   "outputs": [],
   "source": [
    "num_transactions = len(df)"
   ]
  },
  {
   "cell_type": "code",
   "execution_count": 7,
   "metadata": {},
   "outputs": [],
   "source": [
    "# 지지도 함수\n",
    "def calc_support(itemset):\n",
    "    count = 0\n",
    "    for _, row in df_encoded.iterrows():\n",
    "        if all(row[item] for item in itemset):\n",
    "            count += 1\n",
    "    return count / num_transactions\n",
    "\n",
    "# 신뢰도 함수\n",
    "def calc_confidence(antecedent, consequent):\n",
    "    antecedent_support = calc_support(antecedent)\n",
    "\n",
    "    if antecedent_support == 0:\n",
    "        return 0\n",
    "    joint_support = calc_support(antecedent + consequent)\n",
    "    return joint_support / antecedent_support\n",
    "\n",
    "# 향상도 함수\n",
    "def calc_lift(antecedent, consequent):\n",
    "    antecedent_support = calc_support(antecedent)\n",
    "    consequent_support = calc_support(consequent)\n",
    "\n",
    "    if antecedent_support == 0 or consequent_support == 0:\n",
    "        return 0\n",
    "    joint_support = calc_support(antecedent + consequent)\n",
    "    return joint_support / (antecedent_support * consequent_support)"
   ]
  },
  {
   "cell_type": "code",
   "execution_count": 8,
   "metadata": {},
   "outputs": [
    {
     "name": "stdout",
     "output_type": "stream",
     "text": [
      "## 빈발 항목 집합 ##\n",
      "Itemset: ['가위손'], Support: 0.40\n",
      "Itemset: ['다이하드'], Support: 0.40\n",
      "Itemset: ['블레이드 러너'], Support: 0.60\n",
      "Itemset: ['아마데우스'], Support: 0.40\n",
      "Itemset: ['죽은 시인의 사회'], Support: 0.60\n",
      "Itemset: ['다이하드', '블레이드 러너'], Support: 0.40\n",
      "Itemset: ['아마데우스', '죽은 시인의 사회'], Support: 0.40\n"
     ]
    }
   ],
   "source": [
    "min_support = 0.4\n",
    "freq_itemsets = []\n",
    "\n",
    "for i in range(1, len(df_encoded.columns) + 1):\n",
    "    for itemset in combinations(df_encoded.columns, i):\n",
    "        support = calc_support(list(itemset))\n",
    "        if support >= min_support:\n",
    "            freq_itemsets.append((list(itemset), support))\n",
    "\n",
    "print(\"## 빈발 항목 집합 ##\")\n",
    "\n",
    "for itemset, support in freq_itemsets:\n",
    "    print(f\"Itemset: {itemset}, Support: {support:.2f}\")"
   ]
  },
  {
   "cell_type": "code",
   "execution_count": null,
   "metadata": {},
   "outputs": [
    {
     "name": "stdout",
     "output_type": "stream",
     "text": [
      "## 연관 규칙 및 지표 ##\n",
      "규칙: ['다이하드'] -> ['블레이드 러너']\n",
      "  지지도: 0.40\n",
      "  신뢰도: 1.00\n",
      "  향상도: 1.67\n",
      "--------------------\n",
      "규칙: ['블레이드 러너'] -> ['다이하드']\n",
      "  지지도: 0.40\n",
      "  신뢰도: 0.67\n",
      "  향상도: 1.67\n",
      "--------------------\n",
      "규칙: ['아마데우스'] -> ['죽은 시인의 사회']\n",
      "  지지도: 0.40\n",
      "  신뢰도: 1.00\n",
      "  향상도: 1.67\n",
      "--------------------\n",
      "규칙: ['죽은 시인의 사회'] -> ['아마데우스']\n",
      "  지지도: 0.40\n",
      "  신뢰도: 0.67\n",
      "  향상도: 1.67\n",
      "--------------------\n"
     ]
    }
   ],
   "source": [
    "association_rules = []\n",
    "for itemset, _ in freq_itemsets:\n",
    "    if len(itemset) >= 2:\n",
    "        for i in range(1, len(itemset) + 1):\n",
    "            for antecedent in combinations(itemset, i):\n",
    "                consequent = list(set(itemset) - set(antecedent))\n",
    "                confidence = calc_confidence(list(antecedent), consequent)\n",
    "                lift = calc_lift(list(antecedent), consequent)\n",
    "                association_rules.append((list(antecedent), consequent, confidence, lift))\n",
    "\n",
    "print(\"## 연관 규칙 및 지표 ##\")\n",
    "for antecedent, consequent, confidence, lift in association_rules:\n",
    "    support = calc_support(antecedent + consequent)\n",
    "    print(f\"규칙: {antecedent} -> {consequent}\")\n",
    "    print(f\"  지지도: {support:.2f}\")\n",
    "    print(f\"  신뢰도: {confidence:.2f}\")\n",
    "    print(f\"  향상도: {lift:.2f}\")\n",
    "    print(\"-\" * 20)"
   ]
  }
 ],
 "metadata": {
  "kernelspec": {
   "display_name": "test",
   "language": "python",
   "name": "python3"
  },
  "language_info": {
   "codemirror_mode": {
    "name": "ipython",
    "version": 3
   },
   "file_extension": ".py",
   "mimetype": "text/x-python",
   "name": "python",
   "nbconvert_exporter": "python",
   "pygments_lexer": "ipython3",
   "version": "3.12.7"
  }
 },
 "nbformat": 4,
 "nbformat_minor": 2
}
