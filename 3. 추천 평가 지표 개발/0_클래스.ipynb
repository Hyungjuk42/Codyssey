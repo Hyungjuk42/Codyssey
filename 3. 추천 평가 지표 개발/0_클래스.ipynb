{
 "cells": [
  {
   "cell_type": "code",
   "execution_count": 1,
   "metadata": {},
   "outputs": [
    {
     "name": "stdout",
     "output_type": "stream",
     "text": [
      "3\n",
      "7\n"
     ]
    }
   ],
   "source": [
    "# 클래스를 사용하지 않은 계산기\n",
    "\n",
    "res = 0\n",
    "\n",
    "def add(num):\n",
    "    global res\n",
    "    res += num\n",
    "    return res\n",
    "\n",
    "print(add(3))\n",
    "print(add(4))\n",
    "    "
   ]
  },
  {
   "cell_type": "code",
   "execution_count": null,
   "metadata": {},
   "outputs": [],
   "source": [
    "class Calculator:\n",
    "    def __init__(self):\n",
    "        self.res = 0\n",
    "\n",
    "    def setdata(self, first, second):\n",
    "        self.fst = first\n",
    "        self.snd = second\n",
    "\n",
    "    def add(self, num):\n",
    "        self.res += num\n",
    "        return self.res\n",
    "    \n",
    "    def sub(self, num):\n",
    "        self.res -= num\n",
    "        return self.res\n",
    "\n",
    "cal1 = Calculator()\n"
   ]
  }
 ],
 "metadata": {
  "kernelspec": {
   "display_name": "test",
   "language": "python",
   "name": "python3"
  },
  "language_info": {
   "codemirror_mode": {
    "name": "ipython",
    "version": 3
   },
   "file_extension": ".py",
   "mimetype": "text/x-python",
   "name": "python",
   "nbconvert_exporter": "python",
   "pygments_lexer": "ipython3",
   "version": "3.12.7"
  }
 },
 "nbformat": 4,
 "nbformat_minor": 2
}
